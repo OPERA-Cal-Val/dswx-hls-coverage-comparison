{
 "cells": [
  {
   "cell_type": "code",
   "execution_count": 1,
   "id": "4433a8ae",
   "metadata": {},
   "outputs": [],
   "source": [
    "from cmr import GranuleQuery\n",
    "import datetime\n",
    "from shapely.geometry import Polygon\n",
    "import pandas as pd\n",
    "import geopandas as gpd\n",
    "from tqdm import tqdm\n",
    "from osgeo import gdal\n",
    "import rasterio\n",
    "import concurrent.futures\n",
    "import backoff\n",
    "from rasterio.errors import RasterioIOError\n",
    "import requests\n",
    "import boto3\n",
    "from rasterio.session import AWSSession\n",
    "import os\n"
   ]
  },
  {
   "cell_type": "markdown",
   "id": "210dd9e5",
   "metadata": {},
   "source": [
    "Source: https://git.earthdata.nasa.gov/projects/LPDUR/repos/lpdaac_cloud_data_access/browse/notebooks/Topic_2__Cloud_Optimized_Data.ipynb"
   ]
  },
  {
   "cell_type": "code",
   "execution_count": 2,
   "id": "151bf95c",
   "metadata": {},
   "outputs": [
    {
     "data": {
      "text/plain": [
       "<rasterio.env.Env at 0x7f4bb00f9960>"
      ]
     },
     "execution_count": 2,
     "metadata": {},
     "output_type": "execute_result"
    }
   ],
   "source": [
    "def get_temp_creds():\n",
    "    temp_creds_url = 'https://data.lpdaac.earthdatacloud.nasa.gov/s3credentials'\n",
    "    return requests.get(temp_creds_url).json()\n",
    "temp_creds_req = get_temp_creds()\n",
    "\n",
    "session = boto3.Session(aws_access_key_id=temp_creds_req['accessKeyId'], \n",
    "                        aws_secret_access_key=temp_creds_req['secretAccessKey'],\n",
    "                        aws_session_token=temp_creds_req['sessionToken'],\n",
    "                        region_name='us-west-2')\n",
    "rio_env = rasterio.Env(AWSSession(session),\n",
    "                  GDAL_DISABLE_READDIR_ON_OPEN='TRUE',\n",
    "                  CPL_VSIL_CURL_ALLOWED_EXTENSIONS='tif',\n",
    "                  VSI_CACHE=True,\n",
    "                  region_name='us-west-2',\n",
    "                  GDAL_HTTP_COOKIEFILE=os.path.expanduser('~/cookies.txt'),\n",
    "                  GDAL_HTTP_COOKIEJAR=os.path.expanduser('~/cookies.txt'))\n",
    "rio_env.__enter__()"
   ]
  },
  {
   "cell_type": "markdown",
   "id": "d6443080",
   "metadata": {},
   "source": [
    "# Constants"
   ]
  },
  {
   "cell_type": "code",
   "execution_count": 3,
   "id": "9ce76a0e",
   "metadata": {},
   "outputs": [],
   "source": [
    "HLS_S30_CONCEPT_ID = 'C2021957295-LPCLOUD'\n",
    "HLS_L30_CONCEPT_ID = 'C2021957657-LPCLOUD'\n",
    "DSWX_CONCEPT_ID = 'C2617126679-POCLOUD'"
   ]
  },
  {
   "cell_type": "markdown",
   "id": "1be95d4e",
   "metadata": {},
   "source": [
    "# Parameters"
   ]
  },
  {
   "cell_type": "code",
   "execution_count": 4,
   "id": "0ad2d2a8",
   "metadata": {},
   "outputs": [],
   "source": [
    "now = datetime.datetime.now()\n",
    "delta = datetime.timedelta(days=7)\n",
    "\n",
    "beg_date = now - delta\n",
    "end_date = now"
   ]
  },
  {
   "cell_type": "markdown",
   "id": "41fbfc19",
   "metadata": {},
   "source": [
    "# HLS"
   ]
  },
  {
   "cell_type": "code",
   "execution_count": 5,
   "id": "384ff8d0",
   "metadata": {},
   "outputs": [],
   "source": [
    "api = GranuleQuery()"
   ]
  },
  {
   "cell_type": "code",
   "execution_count": 6,
   "id": "154dae5f",
   "metadata": {},
   "outputs": [],
   "source": [
    "concept_ids = [HLS_L30_CONCEPT_ID, HLS_S30_CONCEPT_ID]"
   ]
  },
  {
   "cell_type": "code",
   "execution_count": 7,
   "id": "9a4f9e3b",
   "metadata": {},
   "outputs": [],
   "source": [
    "q = api.concept_id(concept_ids).temporal(beg_date, end_date)"
   ]
  },
  {
   "cell_type": "code",
   "execution_count": 8,
   "id": "006672c7",
   "metadata": {},
   "outputs": [
    {
     "data": {
      "text/plain": [
       "67480"
      ]
     },
     "execution_count": 8,
     "metadata": {},
     "output_type": "execute_result"
    }
   ],
   "source": [
    "q.hits()"
   ]
  },
  {
   "cell_type": "code",
   "execution_count": 9,
   "id": "dbe17aac",
   "metadata": {
    "scrolled": false
   },
   "outputs": [
    {
     "data": {
      "text/plain": [
       "{'producer_granule_id': 'HLS.L30.T18GYP.2023124T142433',\n",
       " 'time_start': '2023-05-04T14:24:33.166Z',\n",
       " 'cloud_cover': '99',\n",
       " 'updated': '2023-05-06T07:17:49.271Z',\n",
       " 'dataset_id': 'HLS Landsat Operational Land Imager Surface Reflectance and TOA Brightness Daily Global 30m v2.0',\n",
       " 'data_center': 'LPCLOUD',\n",
       " 'title': 'HLS.L30.T18GYP.2023124T142433.v2.0',\n",
       " 'coordinate_system': 'GEODETIC',\n",
       " 'day_night_flag': 'DAY',\n",
       " 'time_end': '2023-05-04T14:24:57.133Z',\n",
       " 'id': 'G2679304523-LPCLOUD',\n",
       " 'original_format': 'ECHO10',\n",
       " 'browse_flag': True,\n",
       " 'polygons': [['-47.0114887 -72.3692047 -46.9692466 -70.9276844 -45.9835452 -71.0006794 -46.0243651 -72.4164512 -47.0114887 -72.3692047']],\n",
       " 'collection_concept_id': 'C2021957657-LPCLOUD',\n",
       " 'online_access_flag': True,\n",
       " 'links': [{'rel': 'http://esipfed.org/ns/fedsearch/1.1/data#',\n",
       "   'title': 'Download HLS.L30.T18GYP.2023124T142433.v2.0.SZA.tif',\n",
       "   'hreflang': 'en-US',\n",
       "   'href': 'https://data.lpdaac.earthdatacloud.nasa.gov/lp-prod-protected/HLSL30.020/HLS.L30.T18GYP.2023124T142433.v2.0/HLS.L30.T18GYP.2023124T142433.v2.0.SZA.tif'},\n",
       "  {'rel': 'http://esipfed.org/ns/fedsearch/1.1/s3#',\n",
       "   'title': 'This link provides direct download access via S3 to the granule',\n",
       "   'hreflang': 'en-US',\n",
       "   'href': 's3://lp-prod-protected/HLSL30.020/HLS.L30.T18GYP.2023124T142433.v2.0/HLS.L30.T18GYP.2023124T142433.v2.0.SZA.tif'},\n",
       "  {'rel': 'http://esipfed.org/ns/fedsearch/1.1/data#',\n",
       "   'title': 'Download HLS.L30.T18GYP.2023124T142433.v2.0.B10.tif',\n",
       "   'hreflang': 'en-US',\n",
       "   'href': 'https://data.lpdaac.earthdatacloud.nasa.gov/lp-prod-protected/HLSL30.020/HLS.L30.T18GYP.2023124T142433.v2.0/HLS.L30.T18GYP.2023124T142433.v2.0.B10.tif'},\n",
       "  {'rel': 'http://esipfed.org/ns/fedsearch/1.1/s3#',\n",
       "   'title': 'This link provides direct download access via S3 to the granule',\n",
       "   'hreflang': 'en-US',\n",
       "   'href': 's3://lp-prod-protected/HLSL30.020/HLS.L30.T18GYP.2023124T142433.v2.0/HLS.L30.T18GYP.2023124T142433.v2.0.B10.tif'},\n",
       "  {'rel': 'http://esipfed.org/ns/fedsearch/1.1/data#',\n",
       "   'title': 'Download HLS.L30.T18GYP.2023124T142433.v2.0.B01.tif',\n",
       "   'hreflang': 'en-US',\n",
       "   'href': 'https://data.lpdaac.earthdatacloud.nasa.gov/lp-prod-protected/HLSL30.020/HLS.L30.T18GYP.2023124T142433.v2.0/HLS.L30.T18GYP.2023124T142433.v2.0.B01.tif'},\n",
       "  {'rel': 'http://esipfed.org/ns/fedsearch/1.1/s3#',\n",
       "   'title': 'This link provides direct download access via S3 to the granule',\n",
       "   'hreflang': 'en-US',\n",
       "   'href': 's3://lp-prod-protected/HLSL30.020/HLS.L30.T18GYP.2023124T142433.v2.0/HLS.L30.T18GYP.2023124T142433.v2.0.B01.tif'},\n",
       "  {'rel': 'http://esipfed.org/ns/fedsearch/1.1/data#',\n",
       "   'title': 'Download HLS.L30.T18GYP.2023124T142433.v2.0.Fmask.tif',\n",
       "   'hreflang': 'en-US',\n",
       "   'href': 'https://data.lpdaac.earthdatacloud.nasa.gov/lp-prod-protected/HLSL30.020/HLS.L30.T18GYP.2023124T142433.v2.0/HLS.L30.T18GYP.2023124T142433.v2.0.Fmask.tif'},\n",
       "  {'rel': 'http://esipfed.org/ns/fedsearch/1.1/s3#',\n",
       "   'title': 'This link provides direct download access via S3 to the granule',\n",
       "   'hreflang': 'en-US',\n",
       "   'href': 's3://lp-prod-protected/HLSL30.020/HLS.L30.T18GYP.2023124T142433.v2.0/HLS.L30.T18GYP.2023124T142433.v2.0.Fmask.tif'},\n",
       "  {'rel': 'http://esipfed.org/ns/fedsearch/1.1/data#',\n",
       "   'title': 'Download HLS.L30.T18GYP.2023124T142433.v2.0.B03.tif',\n",
       "   'hreflang': 'en-US',\n",
       "   'href': 'https://data.lpdaac.earthdatacloud.nasa.gov/lp-prod-protected/HLSL30.020/HLS.L30.T18GYP.2023124T142433.v2.0/HLS.L30.T18GYP.2023124T142433.v2.0.B03.tif'},\n",
       "  {'rel': 'http://esipfed.org/ns/fedsearch/1.1/s3#',\n",
       "   'title': 'This link provides direct download access via S3 to the granule',\n",
       "   'hreflang': 'en-US',\n",
       "   'href': 's3://lp-prod-protected/HLSL30.020/HLS.L30.T18GYP.2023124T142433.v2.0/HLS.L30.T18GYP.2023124T142433.v2.0.B03.tif'},\n",
       "  {'rel': 'http://esipfed.org/ns/fedsearch/1.1/data#',\n",
       "   'title': 'Download HLS.L30.T18GYP.2023124T142433.v2.0.SAA.tif',\n",
       "   'hreflang': 'en-US',\n",
       "   'href': 'https://data.lpdaac.earthdatacloud.nasa.gov/lp-prod-protected/HLSL30.020/HLS.L30.T18GYP.2023124T142433.v2.0/HLS.L30.T18GYP.2023124T142433.v2.0.SAA.tif'},\n",
       "  {'rel': 'http://esipfed.org/ns/fedsearch/1.1/s3#',\n",
       "   'title': 'This link provides direct download access via S3 to the granule',\n",
       "   'hreflang': 'en-US',\n",
       "   'href': 's3://lp-prod-protected/HLSL30.020/HLS.L30.T18GYP.2023124T142433.v2.0/HLS.L30.T18GYP.2023124T142433.v2.0.SAA.tif'},\n",
       "  {'rel': 'http://esipfed.org/ns/fedsearch/1.1/data#',\n",
       "   'title': 'Download HLS.L30.T18GYP.2023124T142433.v2.0.B09.tif',\n",
       "   'hreflang': 'en-US',\n",
       "   'href': 'https://data.lpdaac.earthdatacloud.nasa.gov/lp-prod-protected/HLSL30.020/HLS.L30.T18GYP.2023124T142433.v2.0/HLS.L30.T18GYP.2023124T142433.v2.0.B09.tif'},\n",
       "  {'rel': 'http://esipfed.org/ns/fedsearch/1.1/s3#',\n",
       "   'title': 'This link provides direct download access via S3 to the granule',\n",
       "   'hreflang': 'en-US',\n",
       "   'href': 's3://lp-prod-protected/HLSL30.020/HLS.L30.T18GYP.2023124T142433.v2.0/HLS.L30.T18GYP.2023124T142433.v2.0.B09.tif'},\n",
       "  {'rel': 'http://esipfed.org/ns/fedsearch/1.1/data#',\n",
       "   'title': 'Download HLS.L30.T18GYP.2023124T142433.v2.0.B02.tif',\n",
       "   'hreflang': 'en-US',\n",
       "   'href': 'https://data.lpdaac.earthdatacloud.nasa.gov/lp-prod-protected/HLSL30.020/HLS.L30.T18GYP.2023124T142433.v2.0/HLS.L30.T18GYP.2023124T142433.v2.0.B02.tif'},\n",
       "  {'rel': 'http://esipfed.org/ns/fedsearch/1.1/s3#',\n",
       "   'title': 'This link provides direct download access via S3 to the granule',\n",
       "   'hreflang': 'en-US',\n",
       "   'href': 's3://lp-prod-protected/HLSL30.020/HLS.L30.T18GYP.2023124T142433.v2.0/HLS.L30.T18GYP.2023124T142433.v2.0.B02.tif'},\n",
       "  {'rel': 'http://esipfed.org/ns/fedsearch/1.1/data#',\n",
       "   'title': 'Download HLS.L30.T18GYP.2023124T142433.v2.0.VZA.tif',\n",
       "   'hreflang': 'en-US',\n",
       "   'href': 'https://data.lpdaac.earthdatacloud.nasa.gov/lp-prod-protected/HLSL30.020/HLS.L30.T18GYP.2023124T142433.v2.0/HLS.L30.T18GYP.2023124T142433.v2.0.VZA.tif'},\n",
       "  {'rel': 'http://esipfed.org/ns/fedsearch/1.1/s3#',\n",
       "   'title': 'This link provides direct download access via S3 to the granule',\n",
       "   'hreflang': 'en-US',\n",
       "   'href': 's3://lp-prod-protected/HLSL30.020/HLS.L30.T18GYP.2023124T142433.v2.0/HLS.L30.T18GYP.2023124T142433.v2.0.VZA.tif'},\n",
       "  {'rel': 'http://esipfed.org/ns/fedsearch/1.1/data#',\n",
       "   'title': 'Download HLS.L30.T18GYP.2023124T142433.v2.0.B06.tif',\n",
       "   'hreflang': 'en-US',\n",
       "   'href': 'https://data.lpdaac.earthdatacloud.nasa.gov/lp-prod-protected/HLSL30.020/HLS.L30.T18GYP.2023124T142433.v2.0/HLS.L30.T18GYP.2023124T142433.v2.0.B06.tif'},\n",
       "  {'rel': 'http://esipfed.org/ns/fedsearch/1.1/s3#',\n",
       "   'title': 'This link provides direct download access via S3 to the granule',\n",
       "   'hreflang': 'en-US',\n",
       "   'href': 's3://lp-prod-protected/HLSL30.020/HLS.L30.T18GYP.2023124T142433.v2.0/HLS.L30.T18GYP.2023124T142433.v2.0.B06.tif'},\n",
       "  {'rel': 'http://esipfed.org/ns/fedsearch/1.1/data#',\n",
       "   'title': 'Download HLS.L30.T18GYP.2023124T142433.v2.0.B07.tif',\n",
       "   'hreflang': 'en-US',\n",
       "   'href': 'https://data.lpdaac.earthdatacloud.nasa.gov/lp-prod-protected/HLSL30.020/HLS.L30.T18GYP.2023124T142433.v2.0/HLS.L30.T18GYP.2023124T142433.v2.0.B07.tif'},\n",
       "  {'rel': 'http://esipfed.org/ns/fedsearch/1.1/s3#',\n",
       "   'title': 'This link provides direct download access via S3 to the granule',\n",
       "   'hreflang': 'en-US',\n",
       "   'href': 's3://lp-prod-protected/HLSL30.020/HLS.L30.T18GYP.2023124T142433.v2.0/HLS.L30.T18GYP.2023124T142433.v2.0.B07.tif'},\n",
       "  {'rel': 'http://esipfed.org/ns/fedsearch/1.1/data#',\n",
       "   'title': 'Download HLS.L30.T18GYP.2023124T142433.v2.0.B11.tif',\n",
       "   'hreflang': 'en-US',\n",
       "   'href': 'https://data.lpdaac.earthdatacloud.nasa.gov/lp-prod-protected/HLSL30.020/HLS.L30.T18GYP.2023124T142433.v2.0/HLS.L30.T18GYP.2023124T142433.v2.0.B11.tif'},\n",
       "  {'rel': 'http://esipfed.org/ns/fedsearch/1.1/s3#',\n",
       "   'title': 'This link provides direct download access via S3 to the granule',\n",
       "   'hreflang': 'en-US',\n",
       "   'href': 's3://lp-prod-protected/HLSL30.020/HLS.L30.T18GYP.2023124T142433.v2.0/HLS.L30.T18GYP.2023124T142433.v2.0.B11.tif'},\n",
       "  {'rel': 'http://esipfed.org/ns/fedsearch/1.1/data#',\n",
       "   'title': 'Download HLS.L30.T18GYP.2023124T142433.v2.0.VAA.tif',\n",
       "   'hreflang': 'en-US',\n",
       "   'href': 'https://data.lpdaac.earthdatacloud.nasa.gov/lp-prod-protected/HLSL30.020/HLS.L30.T18GYP.2023124T142433.v2.0/HLS.L30.T18GYP.2023124T142433.v2.0.VAA.tif'},\n",
       "  {'rel': 'http://esipfed.org/ns/fedsearch/1.1/s3#',\n",
       "   'title': 'This link provides direct download access via S3 to the granule',\n",
       "   'hreflang': 'en-US',\n",
       "   'href': 's3://lp-prod-protected/HLSL30.020/HLS.L30.T18GYP.2023124T142433.v2.0/HLS.L30.T18GYP.2023124T142433.v2.0.VAA.tif'},\n",
       "  {'rel': 'http://esipfed.org/ns/fedsearch/1.1/data#',\n",
       "   'title': 'Download HLS.L30.T18GYP.2023124T142433.v2.0.B04.tif',\n",
       "   'hreflang': 'en-US',\n",
       "   'href': 'https://data.lpdaac.earthdatacloud.nasa.gov/lp-prod-protected/HLSL30.020/HLS.L30.T18GYP.2023124T142433.v2.0/HLS.L30.T18GYP.2023124T142433.v2.0.B04.tif'},\n",
       "  {'rel': 'http://esipfed.org/ns/fedsearch/1.1/s3#',\n",
       "   'title': 'This link provides direct download access via S3 to the granule',\n",
       "   'hreflang': 'en-US',\n",
       "   'href': 's3://lp-prod-protected/HLSL30.020/HLS.L30.T18GYP.2023124T142433.v2.0/HLS.L30.T18GYP.2023124T142433.v2.0.B04.tif'},\n",
       "  {'rel': 'http://esipfed.org/ns/fedsearch/1.1/data#',\n",
       "   'title': 'Download HLS.L30.T18GYP.2023124T142433.v2.0.B05.tif',\n",
       "   'hreflang': 'en-US',\n",
       "   'href': 'https://data.lpdaac.earthdatacloud.nasa.gov/lp-prod-protected/HLSL30.020/HLS.L30.T18GYP.2023124T142433.v2.0/HLS.L30.T18GYP.2023124T142433.v2.0.B05.tif'},\n",
       "  {'rel': 'http://esipfed.org/ns/fedsearch/1.1/s3#',\n",
       "   'title': 'This link provides direct download access via S3 to the granule',\n",
       "   'hreflang': 'en-US',\n",
       "   'href': 's3://lp-prod-protected/HLSL30.020/HLS.L30.T18GYP.2023124T142433.v2.0/HLS.L30.T18GYP.2023124T142433.v2.0.B05.tif'},\n",
       "  {'rel': 'http://esipfed.org/ns/fedsearch/1.1/metadata#',\n",
       "   'title': 'Download HLS.L30.T18GYP.2023124T142433.v2.0_stac.json (EXTENDED METADATA)',\n",
       "   'hreflang': 'en-US',\n",
       "   'href': 'https://data.lpdaac.earthdatacloud.nasa.gov/lp-prod-public/HLSL30.020/HLS.L30.T18GYP.2023124T142433.v2.0/HLS.L30.T18GYP.2023124T142433.v2.0_stac.json'},\n",
       "  {'rel': 'http://esipfed.org/ns/fedsearch/1.1/metadata#',\n",
       "   'title': 'This link provides direct download access via S3 to the granule (EXTENDED METADATA)',\n",
       "   'hreflang': 'en-US',\n",
       "   'href': 's3://lp-prod-public/HLSL30.020/HLS.L30.T18GYP.2023124T142433.v2.0/HLS.L30.T18GYP.2023124T142433.v2.0_stac.json'},\n",
       "  {'rel': 'http://esipfed.org/ns/fedsearch/1.1/metadata#',\n",
       "   'title': 'Download HLS.L30.T18GYP.2023124T142433.v2.0.cmr.xml (EXTENDED METADATA)',\n",
       "   'hreflang': 'en-US',\n",
       "   'href': 'https://data.lpdaac.earthdatacloud.nasa.gov/lp-prod-protected/HLSL30.020/HLS.L30.T18GYP.2023124T142433.v2.0/HLS.L30.T18GYP.2023124T142433.v2.0.cmr.xml'},\n",
       "  {'rel': 'http://esipfed.org/ns/fedsearch/1.1/metadata#',\n",
       "   'title': 'This link provides direct download access via S3 to the granule (EXTENDED METADATA)',\n",
       "   'hreflang': 'en-US',\n",
       "   'href': 's3://lp-prod-protected/HLSL30.020/HLS.L30.T18GYP.2023124T142433.v2.0/HLS.L30.T18GYP.2023124T142433.v2.0.cmr.xml'},\n",
       "  {'rel': 'http://esipfed.org/ns/fedsearch/1.1/metadata#',\n",
       "   'title': 'api endpoint to retrieve temporary credentials valid for same-region direct s3 access (VIEW RELATED INFORMATION)',\n",
       "   'hreflang': 'en-US',\n",
       "   'href': 'https://data.lpdaac.earthdatacloud.nasa.gov/s3credentials'},\n",
       "  {'rel': 'http://esipfed.org/ns/fedsearch/1.1/browse#',\n",
       "   'title': 'Download HLS.L30.T18GYP.2023124T142433.v2.0.jpg',\n",
       "   'hreflang': 'en-US',\n",
       "   'href': 'https://data.lpdaac.earthdatacloud.nasa.gov/lp-prod-public/HLSL30.020/HLS.L30.T18GYP.2023124T142433.v2.0/HLS.L30.T18GYP.2023124T142433.v2.0.jpg'},\n",
       "  {'rel': 'http://esipfed.org/ns/fedsearch/1.1/browse#',\n",
       "   'title': 'This link provides direct download access via S3 to the granule',\n",
       "   'hreflang': 'en-US',\n",
       "   'href': 's3://lp-prod-public/HLSL30.020/HLS.L30.T18GYP.2023124T142433.v2.0/HLS.L30.T18GYP.2023124T142433.v2.0.jpg'},\n",
       "  {'inherited': True,\n",
       "   'rel': 'http://esipfed.org/ns/fedsearch/1.1/data#',\n",
       "   'hreflang': 'en-US',\n",
       "   'href': 'https://search.earthdata.nasa.gov/search?q=C2021957657-LPCLOUD'},\n",
       "  {'inherited': True,\n",
       "   'rel': 'http://esipfed.org/ns/fedsearch/1.1/metadata#',\n",
       "   'hreflang': 'en-US',\n",
       "   'href': 'https://doi.org/10.5067/HLS/HLSL30.002'},\n",
       "  {'inherited': True,\n",
       "   'rel': 'http://esipfed.org/ns/fedsearch/1.1/metadata#',\n",
       "   'hreflang': 'en-US',\n",
       "   'href': 'https://lpdaac.usgs.gov/'},\n",
       "  {'inherited': True,\n",
       "   'rel': 'http://esipfed.org/ns/fedsearch/1.1/documentation#',\n",
       "   'hreflang': 'en-US',\n",
       "   'href': 'https://lpdaac.usgs.gov/documents/1326/HLS_User_Guide_V2.pdf'},\n",
       "  {'inherited': True,\n",
       "   'rel': 'http://esipfed.org/ns/fedsearch/1.1/documentation#',\n",
       "   'hreflang': 'en-US',\n",
       "   'href': 'https://lpdaac.usgs.gov/documents/769/HLS_ATBD_V15_provisional.pdf'},\n",
       "  {'inherited': True,\n",
       "   'rel': 'http://esipfed.org/ns/fedsearch/1.1/documentation#',\n",
       "   'hreflang': 'en-US',\n",
       "   'href': 'https://lpdaac.usgs.gov/documents/1117/HLS_Quick_Guide_v02.pdf'},\n",
       "  {'inherited': True,\n",
       "   'rel': 'http://esipfed.org/ns/fedsearch/1.1/documentation#',\n",
       "   'hreflang': 'en-US',\n",
       "   'href': 'https://git.earthdata.nasa.gov/projects/LPDUR/repos/hls-tutorial/browse'},\n",
       "  {'inherited': True,\n",
       "   'rel': 'http://esipfed.org/ns/fedsearch/1.1/documentation#',\n",
       "   'hreflang': 'en-US',\n",
       "   'href': 'https://git.earthdata.nasa.gov/projects/LPDUR/repos/hls-super-script/browse'},\n",
       "  {'inherited': True,\n",
       "   'rel': 'http://esipfed.org/ns/fedsearch/1.1/documentation#',\n",
       "   'hreflang': 'en-US',\n",
       "   'href': 'https://git.earthdata.nasa.gov/projects/LPDUR/repos/hls-bulk-download/browse'},\n",
       "  {'inherited': True,\n",
       "   'rel': 'http://esipfed.org/ns/fedsearch/1.1/documentation#',\n",
       "   'hreflang': 'en-US',\n",
       "   'href': 'https://lpdaac.usgs.gov/resources/e-learning/getting-started-with-cloud-native-harmonized-landsat-sentinel-2-hls-data-in-r/'},\n",
       "  {'inherited': True,\n",
       "   'rel': 'http://esipfed.org/ns/fedsearch/1.1/data#',\n",
       "   'hreflang': 'en-US',\n",
       "   'href': 'https://appeears.earthdatacloud.nasa.gov/'}]}"
      ]
     },
     "execution_count": 9,
     "metadata": {},
     "output_type": "execute_result"
    }
   ],
   "source": [
    "q.get(3)[-2]"
   ]
  },
  {
   "cell_type": "code",
   "execution_count": 10,
   "id": "1c84e0df",
   "metadata": {},
   "outputs": [
    {
     "name": "stdout",
     "output_type": "stream",
     "text": [
      "CPU times: user 10.2 s, sys: 1.79 s, total: 12 s\n",
      "Wall time: 1min 53s\n"
     ]
    }
   ],
   "source": [
    "%%time\n",
    "\n",
    "hls_metadata = q.get_all()"
   ]
  },
  {
   "cell_type": "markdown",
   "id": "4cbf4540",
   "metadata": {},
   "source": [
    "## Format"
   ]
  },
  {
   "cell_type": "code",
   "execution_count": 11,
   "id": "3d62333c",
   "metadata": {},
   "outputs": [],
   "source": [
    "def dateline_fix_x(x_coords):\n",
    "    xmax = max(x_coords)\n",
    "    xmin = min(x_coords)\n",
    "    x_coords_new = x_coords\n",
    "    if xmax - xmin > 180:\n",
    "        x_coords_new = [x if x < 0 else x - 360 for x in x_coords]\n",
    "    return x_coords_new\n",
    "\n",
    "def format_hls(item):\n",
    "    out = {}\n",
    "    granule_id = item['title']\n",
    "    out['granule_id'] = granule_id\n",
    "    out['time_acquired'] = pd.to_datetime(item['time_start'])\n",
    "    out['time_updated'] = pd.to_datetime(item['updated'])\n",
    "    # B11 is smaller file size - faster to read mask\n",
    "    out['B04_link'] = next(link_data['href'] for link_data in item['links'] \n",
    "                           if all(kw in link_data['href'] for kw in ['.B04.tif', 'https://']))\n",
    "    \n",
    "    poly_str = item['polygons'][0][0].split(' ')\n",
    "    poly_floats = [float(coord) for coord in poly_str]\n",
    "    n = len(poly_floats)\n",
    "    # (lat, lon)\n",
    "    poly_coords = [(poly_floats[k+1], poly_floats[k]) for k in range(0, n, 2)]\n",
    "    x_coords, y_coords = zip(*poly_coords)\n",
    "    x_coords = dateline_fix_x(x_coords)\n",
    "    poly_coords = zip(x_coords, y_coords)\n",
    "    geometry = Polygon(poly_coords)\n",
    "    \n",
    "    out['time_acq_str'] = granule_id.split('.')[3] + 'Z'\n",
    "    out['mgrs_tile_id'] = granule_id.split('.')[2] \n",
    "    out['geometry'] = geometry\n",
    "    \n",
    "    return out"
   ]
  },
  {
   "cell_type": "code",
   "execution_count": 12,
   "id": "3fec9114",
   "metadata": {},
   "outputs": [
    {
     "name": "stderr",
     "output_type": "stream",
     "text": [
      "100%|███████████████████████████████████████████████████████████████████████████████████████████| 67480/67480 [01:33<00:00, 719.59it/s]\n"
     ]
    }
   ],
   "source": [
    "hls_metadata_formatted = list(map(format_hls, tqdm(hls_metadata[:])))"
   ]
  },
  {
   "cell_type": "code",
   "execution_count": 13,
   "id": "b07e42b3",
   "metadata": {},
   "outputs": [
    {
     "data": {
      "text/html": [
       "<div>\n",
       "<style scoped>\n",
       "    .dataframe tbody tr th:only-of-type {\n",
       "        vertical-align: middle;\n",
       "    }\n",
       "\n",
       "    .dataframe tbody tr th {\n",
       "        vertical-align: top;\n",
       "    }\n",
       "\n",
       "    .dataframe thead th {\n",
       "        text-align: right;\n",
       "    }\n",
       "</style>\n",
       "<table border=\"1\" class=\"dataframe\">\n",
       "  <thead>\n",
       "    <tr style=\"text-align: right;\">\n",
       "      <th></th>\n",
       "      <th>granule_id</th>\n",
       "      <th>time_acquired</th>\n",
       "      <th>time_updated</th>\n",
       "      <th>B04_link</th>\n",
       "      <th>time_acq_str</th>\n",
       "      <th>mgrs_tile_id</th>\n",
       "      <th>geometry</th>\n",
       "    </tr>\n",
       "  </thead>\n",
       "  <tbody>\n",
       "    <tr>\n",
       "      <th>0</th>\n",
       "      <td>HLS.L30.T18GYN.2023124T142433.v2.0</td>\n",
       "      <td>2023-05-04 14:24:33.166000+00:00</td>\n",
       "      <td>2023-05-06 07:16:52.482000+00:00</td>\n",
       "      <td>https://data.lpdaac.earthdatacloud.nasa.gov/lp...</td>\n",
       "      <td>2023124T142433Z</td>\n",
       "      <td>T18GYN</td>\n",
       "      <td>POLYGON ((-72.32396 -47.90997, -71.04347 -47.8...</td>\n",
       "    </tr>\n",
       "    <tr>\n",
       "      <th>1</th>\n",
       "      <td>HLS.L30.T18GYP.2023124T142433.v2.0</td>\n",
       "      <td>2023-05-04 14:24:33.166000+00:00</td>\n",
       "      <td>2023-05-06 07:17:49.271000+00:00</td>\n",
       "      <td>https://data.lpdaac.earthdatacloud.nasa.gov/lp...</td>\n",
       "      <td>2023124T142433Z</td>\n",
       "      <td>T18GYP</td>\n",
       "      <td>POLYGON ((-72.36920 -47.01149, -70.92768 -46.9...</td>\n",
       "    </tr>\n",
       "    <tr>\n",
       "      <th>2</th>\n",
       "      <td>HLS.L30.T18GXP.2023124T142433.v2.0</td>\n",
       "      <td>2023-05-04 14:24:33.166000+00:00</td>\n",
       "      <td>2023-05-06 07:21:07.122000+00:00</td>\n",
       "      <td>https://data.lpdaac.earthdatacloud.nasa.gov/lp...</td>\n",
       "      <td>2023124T142433Z</td>\n",
       "      <td>T18GXP</td>\n",
       "      <td>POLYGON ((-73.32739 -47.02950, -72.23989 -47.0...</td>\n",
       "    </tr>\n",
       "    <tr>\n",
       "      <th>3</th>\n",
       "      <td>HLS.L30.T19GCJ.2023124T142433.v2.0</td>\n",
       "      <td>2023-05-04 14:24:33.166000+00:00</td>\n",
       "      <td>2023-05-06 07:30:42.305000+00:00</td>\n",
       "      <td>https://data.lpdaac.earthdatacloud.nasa.gov/lp...</td>\n",
       "      <td>2023124T142433Z</td>\n",
       "      <td>T19GCJ</td>\n",
       "      <td>POLYGON ((-70.73825 -47.02852, -70.39345 -46.0...</td>\n",
       "    </tr>\n",
       "    <tr>\n",
       "      <th>4</th>\n",
       "      <td>HLS.S30.T19GGM.2023124T140709.v2.0</td>\n",
       "      <td>2023-05-04 14:24:56.969000+00:00</td>\n",
       "      <td>2023-05-06 07:43:05.363000+00:00</td>\n",
       "      <td>https://data.lpdaac.earthdatacloud.nasa.gov/lp...</td>\n",
       "      <td>2023124T140709Z</td>\n",
       "      <td>T19GGM</td>\n",
       "      <td>POLYGON ((-66.49269 -44.31394, -65.22951 -44.2...</td>\n",
       "    </tr>\n",
       "  </tbody>\n",
       "</table>\n",
       "</div>"
      ],
      "text/plain": [
       "                           granule_id                    time_acquired   \n",
       "0  HLS.L30.T18GYN.2023124T142433.v2.0 2023-05-04 14:24:33.166000+00:00  \\\n",
       "1  HLS.L30.T18GYP.2023124T142433.v2.0 2023-05-04 14:24:33.166000+00:00   \n",
       "2  HLS.L30.T18GXP.2023124T142433.v2.0 2023-05-04 14:24:33.166000+00:00   \n",
       "3  HLS.L30.T19GCJ.2023124T142433.v2.0 2023-05-04 14:24:33.166000+00:00   \n",
       "4  HLS.S30.T19GGM.2023124T140709.v2.0 2023-05-04 14:24:56.969000+00:00   \n",
       "\n",
       "                      time_updated   \n",
       "0 2023-05-06 07:16:52.482000+00:00  \\\n",
       "1 2023-05-06 07:17:49.271000+00:00   \n",
       "2 2023-05-06 07:21:07.122000+00:00   \n",
       "3 2023-05-06 07:30:42.305000+00:00   \n",
       "4 2023-05-06 07:43:05.363000+00:00   \n",
       "\n",
       "                                            B04_link     time_acq_str   \n",
       "0  https://data.lpdaac.earthdatacloud.nasa.gov/lp...  2023124T142433Z  \\\n",
       "1  https://data.lpdaac.earthdatacloud.nasa.gov/lp...  2023124T142433Z   \n",
       "2  https://data.lpdaac.earthdatacloud.nasa.gov/lp...  2023124T142433Z   \n",
       "3  https://data.lpdaac.earthdatacloud.nasa.gov/lp...  2023124T142433Z   \n",
       "4  https://data.lpdaac.earthdatacloud.nasa.gov/lp...  2023124T140709Z   \n",
       "\n",
       "  mgrs_tile_id                                           geometry  \n",
       "0       T18GYN  POLYGON ((-72.32396 -47.90997, -71.04347 -47.8...  \n",
       "1       T18GYP  POLYGON ((-72.36920 -47.01149, -70.92768 -46.9...  \n",
       "2       T18GXP  POLYGON ((-73.32739 -47.02950, -72.23989 -47.0...  \n",
       "3       T19GCJ  POLYGON ((-70.73825 -47.02852, -70.39345 -46.0...  \n",
       "4       T19GGM  POLYGON ((-66.49269 -44.31394, -65.22951 -44.2...  "
      ]
     },
     "execution_count": 13,
     "metadata": {},
     "output_type": "execute_result"
    }
   ],
   "source": [
    "df = gpd.GeoDataFrame(hls_metadata_formatted)\n",
    "df.head()"
   ]
  },
  {
   "cell_type": "code",
   "execution_count": 14,
   "id": "c2c49c8e",
   "metadata": {},
   "outputs": [
    {
     "data": {
      "text/plain": [
       "<Axes: >"
      ]
     },
     "execution_count": 14,
     "metadata": {},
     "output_type": "execute_result"
    },
    {
     "data": {
      "image/png": "[encoded data removed]",
      "text/plain": [
       "<Figure size 640x480 with 1 Axes>"
      ]
     },
     "metadata": {},
     "output_type": "display_data"
    }
   ],
   "source": [
    "df.exterior.plot()"
   ]
  },
  {
   "cell_type": "code",
   "execution_count": 15,
   "id": "52003db0",
   "metadata": {},
   "outputs": [],
   "source": [
    "#df.to_file('hls_metadata.geojson', driver='GeoJSON')"
   ]
  },
  {
   "cell_type": "code",
   "execution_count": 16,
   "id": "3a1a701a",
   "metadata": {},
   "outputs": [],
   "source": [
    "def get_hls_tag_data(url: str) -> dict:\n",
    "    with rasterio.open(url) as ds:\n",
    "        t = ds.tags()\n",
    "    out = {key.lower(): val for key, val in t.items()}\n",
    "    return out\n",
    "\n",
    "@backoff.on_exception(backoff.expo,\n",
    "                      Exception,\n",
    "                      max_tries=10)\n",
    "def get_tag_data_from_item(item: dict) -> dict:\n",
    "    url = item['B04_link']\n",
    "    return get_hls_tag_data(url)"
   ]
  },
  {
   "cell_type": "markdown",
   "id": "51f2a01b",
   "metadata": {},
   "source": [
    "Sequentially:"
   ]
  },
  {
   "cell_type": "code",
   "execution_count": 17,
   "id": "4fec9995",
   "metadata": {},
   "outputs": [
    {
     "name": "stderr",
     "output_type": "stream",
     "text": [
      "100%|████████████████████████████████████████████████████████████████████████████████████████████████████| 4/4 [00:13<00:00,  3.42s/it]\n"
     ]
    },
    {
     "data": {
      "text/plain": [
       "[{'accode': 'Lasrc; Lasrc',\n",
       "  'add_offset': '0.0',\n",
       "  'area_or_point': 'Area',\n",
       "  'arop_ave_xshift(meters)': '0, 0',\n",
       "  'arop_ave_yshift(meters)': '0, 0',\n",
       "  'arop_ncp': '0, 0',\n",
       "  'arop_rmse(meters)': '0, 0',\n",
       "  'arop_s2_refimg': 'NONE',\n",
       "  'cloud_coverage': '72',\n",
       "  'hls_processing_time': '2023-05-06T07:14:48Z',\n",
       "  'horizontal_cs_name': 'UTM, WGS84, UTM ZONE 19; UTM, WGS84, UTM ZONE 18',\n",
       "  'l1_processing_time': '2023-05-04T21:57:47Z; 2023-05-04T21:56:05Z',\n",
       "  'landsat_product_id': 'LC09_L1TP_231092_20230504_20230504_02_T1; LC09_L1TP_231093_20230504_20230504_02_T1',\n",
       "  'landsat_scene_id': 'LC92310922023124LGN00; LC92310932023124LGN00',\n",
       "  'long_name': 'Red',\n",
       "  'mean_sun_azimuth_angle': '35.3683882458122',\n",
       "  'mean_sun_zenith_angle': '70.5678297962547',\n",
       "  'mean_view_azimuth_angle': '258.522603623321',\n",
       "  'mean_view_zenith_angle': '3.82482113568492',\n",
       "  'nbar_solar_zenith': '70.1020025887372',\n",
       "  'ncols': '3660',\n",
       "  'nrows': '3660',\n",
       "  'ovr_resampling_alg': 'NEAREST',\n",
       "  'processing_level': 'L1TP; L1TP',\n",
       "  'scale_factor': '0.0001',\n",
       "  'sensing_time': '2023-05-04T14:24:33.1665649Z; 2023-05-04T14:24:57.1338280Z',\n",
       "  'sensor': 'OLI_TIRS; OLI_TIRS',\n",
       "  'sentinel2_tileid': '18GYN',\n",
       "  'spatial_coverage': '93',\n",
       "  'spatial_resolution': '30',\n",
       "  'tirs_ssm_model': 'UNKNOWN; UNKNOWN',\n",
       "  'tirs_ssm_position_status': 'UNKNOWN; UNKNOWN',\n",
       "  'ulx': '699960',\n",
       "  'uly': '-5199960',\n",
       "  'usgs_software': 'LPGS_16.2.0',\n",
       "  '_fillvalue': '-9999'},\n",
       " {'accode': 'Lasrc; Lasrc',\n",
       "  'add_offset': '0.0',\n",
       "  'area_or_point': 'Area',\n",
       "  'arop_ave_xshift(meters)': '0, 0',\n",
       "  'arop_ave_yshift(meters)': '0, 0',\n",
       "  'arop_ncp': '0, 0',\n",
       "  'arop_rmse(meters)': '0, 0',\n",
       "  'arop_s2_refimg': 'NONE',\n",
       "  'cloud_coverage': '99',\n",
       "  'hls_processing_time': '2023-05-06T07:15:31Z',\n",
       "  'horizontal_cs_name': 'UTM, WGS84, UTM ZONE 19; UTM, WGS84, UTM ZONE 18',\n",
       "  'l1_processing_time': '2023-05-04T21:57:47Z; 2023-05-04T21:56:05Z',\n",
       "  'landsat_product_id': 'LC09_L1TP_231092_20230504_20230504_02_T1; LC09_L1TP_231093_20230504_20230504_02_T1',\n",
       "  'landsat_scene_id': 'LC92310922023124LGN00; LC92310932023124LGN00',\n",
       "  'long_name': 'Red',\n",
       "  'mean_sun_azimuth_angle': '35.628244036342',\n",
       "  'mean_sun_zenith_angle': '69.8680163150252',\n",
       "  'mean_view_azimuth_angle': '212.311299841765',\n",
       "  'mean_view_zenith_angle': '2.62673838142911',\n",
       "  'nbar_solar_zenith': '69.2489909988365',\n",
       "  'ncols': '3660',\n",
       "  'nrows': '3660',\n",
       "  'ovr_resampling_alg': 'NEAREST',\n",
       "  'processing_level': 'L1TP; L1TP',\n",
       "  'scale_factor': '0.0001',\n",
       "  'sensing_time': '2023-05-04T14:24:33.1665649Z; 2023-05-04T14:24:57.1338280Z',\n",
       "  'sensor': 'OLI_TIRS; OLI_TIRS',\n",
       "  'sentinel2_tileid': '18GYP',\n",
       "  'spatial_coverage': '94',\n",
       "  'spatial_resolution': '30',\n",
       "  'tirs_ssm_model': 'UNKNOWN; UNKNOWN',\n",
       "  'tirs_ssm_position_status': 'UNKNOWN; UNKNOWN',\n",
       "  'ulx': '699960',\n",
       "  'uly': '-5100000',\n",
       "  'usgs_software': 'LPGS_16.2.0',\n",
       "  '_fillvalue': '-9999'},\n",
       " {'accode': 'Lasrc; Lasrc',\n",
       "  'add_offset': '0.0',\n",
       "  'area_or_point': 'Area',\n",
       "  'arop_ave_xshift(meters)': '0, 0',\n",
       "  'arop_ave_yshift(meters)': '0, 0',\n",
       "  'arop_ncp': '0, 0',\n",
       "  'arop_rmse(meters)': '0, 0',\n",
       "  'arop_s2_refimg': 'NONE',\n",
       "  'cloud_coverage': '79',\n",
       "  'hls_processing_time': '2023-05-06T07:19:51Z',\n",
       "  'horizontal_cs_name': 'UTM, WGS84, UTM ZONE 19; UTM, WGS84, UTM ZONE 18',\n",
       "  'l1_processing_time': '2023-05-04T21:57:47Z; 2023-05-04T21:56:05Z',\n",
       "  'landsat_product_id': 'LC09_L1TP_231092_20230504_20230504_02_T1; LC09_L1TP_231093_20230504_20230504_02_T1',\n",
       "  'landsat_scene_id': 'LC92310922023124LGN00; LC92310932023124LGN00',\n",
       "  'long_name': 'Red',\n",
       "  'mean_sun_azimuth_angle': '36.5822553095642',\n",
       "  'mean_sun_zenith_angle': '70.3589654418661',\n",
       "  'mean_view_azimuth_angle': '103.136780581966',\n",
       "  'mean_view_zenith_angle': '5.55388438735713',\n",
       "  'nbar_solar_zenith': '69.2787850080497',\n",
       "  'ncols': '3660',\n",
       "  'nrows': '3660',\n",
       "  'ovr_resampling_alg': 'NEAREST',\n",
       "  'processing_level': 'L1TP; L1TP',\n",
       "  'scale_factor': '0.0001',\n",
       "  'sensing_time': '2023-05-04T14:24:33.1665649Z; 2023-05-04T14:24:57.1338280Z',\n",
       "  'sensor': 'OLI_TIRS; OLI_TIRS',\n",
       "  'sentinel2_tileid': '18GXP',\n",
       "  'spatial_coverage': '55',\n",
       "  'spatial_resolution': '30',\n",
       "  'tirs_ssm_model': 'UNKNOWN; UNKNOWN',\n",
       "  'tirs_ssm_position_status': 'UNKNOWN; UNKNOWN',\n",
       "  'ulx': '600000',\n",
       "  'uly': '-5100000',\n",
       "  'usgs_software': 'LPGS_16.2.0',\n",
       "  '_fillvalue': '-9999'},\n",
       " {'accode': 'Lasrc; Lasrc',\n",
       "  'add_offset': '0.0',\n",
       "  'area_or_point': 'Area',\n",
       "  'arop_ave_xshift(meters)': '0, 0',\n",
       "  'arop_ave_yshift(meters)': '0, 0',\n",
       "  'arop_ncp': '0, 0',\n",
       "  'arop_rmse(meters)': '0, 0',\n",
       "  'arop_s2_refimg': 'NONE',\n",
       "  'cloud_coverage': '100',\n",
       "  'hls_processing_time': '2023-05-06T07:28:38Z',\n",
       "  'horizontal_cs_name': 'UTM, WGS84, UTM ZONE 19; UTM, WGS84, UTM ZONE 18',\n",
       "  'l1_processing_time': '2023-05-04T21:57:47Z; 2023-05-04T21:56:05Z',\n",
       "  'landsat_product_id': 'LC09_L1TP_231092_20230504_20230504_02_T1; LC09_L1TP_231093_20230504_20230504_02_T1',\n",
       "  'landsat_scene_id': 'LC92310922023124LGN00; LC92310932023124LGN00',\n",
       "  'long_name': 'Red',\n",
       "  'mean_sun_azimuth_angle': '35.1041453674076',\n",
       "  'mean_sun_zenith_angle': '69.6485257967458',\n",
       "  'mean_view_azimuth_angle': '285.729667465046',\n",
       "  'mean_view_zenith_angle': '5.02072455816089',\n",
       "  'nbar_solar_zenith': '69.2793744569568',\n",
       "  'ncols': '3660',\n",
       "  'nrows': '3660',\n",
       "  'ovr_resampling_alg': 'NEAREST',\n",
       "  'processing_level': 'L1TP; L1TP',\n",
       "  'scale_factor': '0.0001',\n",
       "  'sensing_time': '2023-05-04T14:24:33.1665649Z; 2023-05-04T14:24:57.1338280Z',\n",
       "  'sensor': 'OLI_TIRS; OLI_TIRS',\n",
       "  'sentinel2_tileid': '19GCJ',\n",
       "  'spatial_coverage': '73',\n",
       "  'spatial_resolution': '30',\n",
       "  'tirs_ssm_model': 'UNKNOWN; UNKNOWN',\n",
       "  'tirs_ssm_position_status': 'UNKNOWN; UNKNOWN',\n",
       "  'ulx': '300000',\n",
       "  'uly': '-5100000',\n",
       "  'usgs_software': 'LPGS_16.2.0',\n",
       "  '_fillvalue': '-9999'}]"
      ]
     },
     "execution_count": 17,
     "metadata": {},
     "output_type": "execute_result"
    }
   ],
   "source": [
    "tag_data = list(map(get_tag_data_from_item, tqdm(hls_metadata_formatted[:4])))\n",
    "tag_data"
   ]
  },
  {
   "cell_type": "markdown",
   "id": "b87b1772",
   "metadata": {},
   "source": [
    "Multithread:"
   ]
  },
  {
   "cell_type": "code",
   "execution_count": 18,
   "id": "168d739f",
   "metadata": {},
   "outputs": [
    {
     "name": "stderr",
     "output_type": "stream",
     "text": [
      "100%|████████████████████████████████████████████████████████████████████████████████████████████| 67480/67480 [24:50<00:00, 45.27it/s]\n"
     ]
    }
   ],
   "source": [
    "n = len(hls_metadata_formatted)\n",
    "with concurrent.futures.ThreadPoolExecutor(max_workers=100) as executor:\n",
    "    tag_data = list(tqdm(executor.map(get_tag_data_from_item, hls_metadata_formatted[:]), total=n))"
   ]
  },
  {
   "cell_type": "code",
   "execution_count": 19,
   "id": "fd1e43a4",
   "metadata": {},
   "outputs": [],
   "source": [
    "hls_data_formatted_plus_tags = [{**item, **tag_item} for (item, tag_item) in zip(hls_metadata_formatted, tag_data)]\n",
    "df_tags = gpd.GeoDataFrame(hls_data_formatted_plus_tags)"
   ]
  },
  {
   "cell_type": "code",
   "execution_count": 20,
   "id": "b4e38837",
   "metadata": {},
   "outputs": [],
   "source": [
    "df_tags.to_file('hls_metadata_with_tags.geojson', driver='GeoJSON')"
   ]
  }
 ],
 "metadata": {
  "kernelspec": {
   "display_name": "dswx_val",
   "language": "python",
   "name": "dswx_val"
  },
  "language_info": {
   "codemirror_mode": {
    "name": "ipython",
    "version": 3
   },
   "file_extension": ".py",
   "mimetype": "text/x-python",
   "name": "python",
   "nbconvert_exporter": "python",
   "pygments_lexer": "ipython3",
   "version": "3.10.10"
  }
 },
 "nbformat": 4,
 "nbformat_minor": 5
}
