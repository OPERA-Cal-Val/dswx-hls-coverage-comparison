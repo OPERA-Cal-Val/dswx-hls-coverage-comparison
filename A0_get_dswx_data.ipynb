{
 "cells": [
  {
   "cell_type": "code",
   "execution_count": 21,
   "id": "bc9a3bb7",
   "metadata": {},
   "outputs": [],
   "source": [
    "from cmr import GranuleQuery\n",
    "import datetime\n",
    "from shapely.geometry import box\n",
    "import pandas as pd\n",
    "import geopandas as gpd\n",
    "from tqdm import tqdm\n",
    "from osgeo import gdal\n",
    "import rasterio\n",
    "import concurrent.futures\n",
    "import backoff\n",
    "\n",
    "# GDAL configs used to successfully access LP DAAC Cloud Assets via vsicurl \n",
    "gdal.SetConfigOption(\"GDAL_HTTP_UNSAFESSL\", \"YES\")\n",
    "gdal.SetConfigOption('GDAL_HTTP_COOKIEFILE','~/cookies.txt')\n",
    "gdal.SetConfigOption('GDAL_HTTP_COOKIEJAR', '~/cookies.txt')\n",
    "gdal.SetConfigOption('GDAL_DISABLE_READDIR_ON_OPEN','YES')\n",
    "gdal.SetConfigOption('GDAL_DISABLE_READDIR_ON_OPEN','FALSE')\n",
    "gdal.SetConfigOption('CPL_VSIL_CURL_ALLOWED_EXTENSIONS','TIF')"
   ]
  },
  {
   "cell_type": "markdown",
   "id": "c963cd45",
   "metadata": {},
   "source": [
    "# Constants"
   ]
  },
  {
   "cell_type": "code",
   "execution_count": 2,
   "id": "faef8e22",
   "metadata": {},
   "outputs": [],
   "source": [
    "HLS_S30_CONCEPT_ID = 'C2021957295-LPCLOUD'\n",
    "HLS_L30_CONCEPT_ID = 'C2021957657-LPCLOUD'\n",
    "DSWX_CONCEPT_ID = 'C2617126679-POCLOUD'"
   ]
  },
  {
   "cell_type": "markdown",
   "id": "07e37f40",
   "metadata": {},
   "source": [
    "# Parameters"
   ]
  },
  {
   "cell_type": "code",
   "execution_count": 3,
   "id": "938de0d7",
   "metadata": {},
   "outputs": [],
   "source": [
    "now = datetime.datetime.now()\n",
    "delta = datetime.timedelta(days=7)\n",
    "\n",
    "beg_date = now - delta\n",
    "end_date = now"
   ]
  },
  {
   "cell_type": "markdown",
   "id": "7711c4c6",
   "metadata": {},
   "source": [
    "# DSWx Metadata"
   ]
  },
  {
   "cell_type": "code",
   "execution_count": 4,
   "id": "a16c7fa7",
   "metadata": {},
   "outputs": [],
   "source": [
    "api = GranuleQuery()"
   ]
  },
  {
   "cell_type": "code",
   "execution_count": 5,
   "id": "a37bcd87",
   "metadata": {},
   "outputs": [],
   "source": [
    "q = api.concept_id(DSWX_CONCEPT_ID)\n",
    "q = q.temporal(beg_date, end_date)"
   ]
  },
  {
   "cell_type": "code",
   "execution_count": 6,
   "id": "bd1d2459",
   "metadata": {},
   "outputs": [
    {
     "data": {
      "text/plain": [
       "50566"
      ]
     },
     "execution_count": 6,
     "metadata": {},
     "output_type": "execute_result"
    }
   ],
   "source": [
    "q.hits()"
   ]
  },
  {
   "cell_type": "code",
   "execution_count": 7,
   "id": "ad19b489",
   "metadata": {},
   "outputs": [
    {
     "name": "stdout",
     "output_type": "stream",
     "text": [
      "CPU times: user 8.89 s, sys: 3.88 s, total: 12.8 s\n",
      "Wall time: 2min 19s\n"
     ]
    }
   ],
   "source": [
    "%%time\n",
    "\n",
    "dswx_metadata = q.get_all()"
   ]
  },
  {
   "cell_type": "code",
   "execution_count": 8,
   "id": "360d72d0",
   "metadata": {},
   "outputs": [
    {
     "data": {
      "text/plain": [
       "{'producer_granule_id': 'OPERA_L3_DSWx-HLS_T25MER_20230504T123259Z_20230506T164750Z_S2B_30_v1.0',\n",
       " 'boxes': ['-4.524 -33 -3.53 -32.01'],\n",
       " 'time_start': '2023-05-04T12:33:08.845Z',\n",
       " 'updated': '2023-05-06T16:51:17.371Z',\n",
       " 'dataset_id': 'OPERA Dynamic Surface Water Extent from Harmonized Landsat Sentinel-2 provisional product (Version 1)',\n",
       " 'data_center': 'POCLOUD',\n",
       " 'title': 'OPERA_L3_DSWx-HLS_T25MER_20230504T123259Z_20230506T164750Z_S2B_30_v1.0',\n",
       " 'coordinate_system': 'CARTESIAN',\n",
       " 'day_night_flag': 'UNSPECIFIED',\n",
       " 'time_end': '2023-05-04T12:33:08.845Z',\n",
       " 'id': 'G2679801187-POCLOUD',\n",
       " 'original_format': 'UMM_JSON',\n",
       " 'granule_size': '3.0517578125E-5',\n",
       " 'browse_flag': True,\n",
       " 'collection_concept_id': 'C2617126679-POCLOUD',\n",
       " 'online_access_flag': True,\n",
       " 'links': [{'rel': 'http://esipfed.org/ns/fedsearch/1.1/browse#',\n",
       "   'title': 'Download OPERA_L3_DSWx-HLS_T25MER_20230504T123259Z_20230506T164750Z_S2B_30_v1.0_BROWSE.png',\n",
       "   'hreflang': 'en-US',\n",
       "   'href': 'https://archive.podaac.earthdata.nasa.gov/podaac-ops-cumulus-public/OPERA_L3_DSWX-HLS_PROVISIONAL_V1/OPERA_L3_DSWx-HLS_T25MER_20230504T123259Z_20230506T164750Z_S2B_30_v1.0_BROWSE.png'},\n",
       "  {'rel': 'http://esipfed.org/ns/fedsearch/1.1/browse#',\n",
       "   'title': 'This link provides direct download access via S3 to the granule',\n",
       "   'hreflang': 'en-US',\n",
       "   'href': 's3://podaac-ops-cumulus-public/OPERA_L3_DSWX-HLS_PROVISIONAL_V1/OPERA_L3_DSWx-HLS_T25MER_20230504T123259Z_20230506T164750Z_S2B_30_v1.0_BROWSE.png'},\n",
       "  {'rel': 'http://esipfed.org/ns/fedsearch/1.1/data#',\n",
       "   'title': 'Download OPERA_L3_DSWx-HLS_T25MER_20230504T123259Z_20230506T164750Z_S2B_30_v1.0_B01_WTR.tif',\n",
       "   'hreflang': 'en-US',\n",
       "   'href': 'https://archive.podaac.earthdata.nasa.gov/podaac-ops-cumulus-protected/OPERA_L3_DSWX-HLS_PROVISIONAL_V1/OPERA_L3_DSWx-HLS_T25MER_20230504T123259Z_20230506T164750Z_S2B_30_v1.0_B01_WTR.tif'},\n",
       "  {'rel': 'http://esipfed.org/ns/fedsearch/1.1/s3#',\n",
       "   'title': 'This link provides direct download access via S3 to the granule',\n",
       "   'hreflang': 'en-US',\n",
       "   'href': 's3://podaac-ops-cumulus-protected/OPERA_L3_DSWX-HLS_PROVISIONAL_V1/OPERA_L3_DSWx-HLS_T25MER_20230504T123259Z_20230506T164750Z_S2B_30_v1.0_B01_WTR.tif'},\n",
       "  {'rel': 'http://esipfed.org/ns/fedsearch/1.1/data#',\n",
       "   'title': 'Download OPERA_L3_DSWx-HLS_T25MER_20230504T123259Z_20230506T164750Z_S2B_30_v1.0_B02_BWTR.tif',\n",
       "   'hreflang': 'en-US',\n",
       "   'href': 'https://archive.podaac.earthdata.nasa.gov/podaac-ops-cumulus-protected/OPERA_L3_DSWX-HLS_PROVISIONAL_V1/OPERA_L3_DSWx-HLS_T25MER_20230504T123259Z_20230506T164750Z_S2B_30_v1.0_B02_BWTR.tif'},\n",
       "  {'rel': 'http://esipfed.org/ns/fedsearch/1.1/s3#',\n",
       "   'title': 'This link provides direct download access via S3 to the granule',\n",
       "   'hreflang': 'en-US',\n",
       "   'href': 's3://podaac-ops-cumulus-protected/OPERA_L3_DSWX-HLS_PROVISIONAL_V1/OPERA_L3_DSWx-HLS_T25MER_20230504T123259Z_20230506T164750Z_S2B_30_v1.0_B02_BWTR.tif'},\n",
       "  {'rel': 'http://esipfed.org/ns/fedsearch/1.1/data#',\n",
       "   'title': 'Download OPERA_L3_DSWx-HLS_T25MER_20230504T123259Z_20230506T164750Z_S2B_30_v1.0_B03_CONF.tif',\n",
       "   'hreflang': 'en-US',\n",
       "   'href': 'https://archive.podaac.earthdata.nasa.gov/podaac-ops-cumulus-protected/OPERA_L3_DSWX-HLS_PROVISIONAL_V1/OPERA_L3_DSWx-HLS_T25MER_20230504T123259Z_20230506T164750Z_S2B_30_v1.0_B03_CONF.tif'},\n",
       "  {'rel': 'http://esipfed.org/ns/fedsearch/1.1/s3#',\n",
       "   'title': 'This link provides direct download access via S3 to the granule',\n",
       "   'hreflang': 'en-US',\n",
       "   'href': 's3://podaac-ops-cumulus-protected/OPERA_L3_DSWX-HLS_PROVISIONAL_V1/OPERA_L3_DSWx-HLS_T25MER_20230504T123259Z_20230506T164750Z_S2B_30_v1.0_B03_CONF.tif'},\n",
       "  {'rel': 'http://esipfed.org/ns/fedsearch/1.1/data#',\n",
       "   'title': 'Download OPERA_L3_DSWx-HLS_T25MER_20230504T123259Z_20230506T164750Z_S2B_30_v1.0_B04_DIAG.tif',\n",
       "   'hreflang': 'en-US',\n",
       "   'href': 'https://archive.podaac.earthdata.nasa.gov/podaac-ops-cumulus-protected/OPERA_L3_DSWX-HLS_PROVISIONAL_V1/OPERA_L3_DSWx-HLS_T25MER_20230504T123259Z_20230506T164750Z_S2B_30_v1.0_B04_DIAG.tif'},\n",
       "  {'rel': 'http://esipfed.org/ns/fedsearch/1.1/s3#',\n",
       "   'title': 'This link provides direct download access via S3 to the granule',\n",
       "   'hreflang': 'en-US',\n",
       "   'href': 's3://podaac-ops-cumulus-protected/OPERA_L3_DSWX-HLS_PROVISIONAL_V1/OPERA_L3_DSWx-HLS_T25MER_20230504T123259Z_20230506T164750Z_S2B_30_v1.0_B04_DIAG.tif'},\n",
       "  {'rel': 'http://esipfed.org/ns/fedsearch/1.1/data#',\n",
       "   'title': 'Download OPERA_L3_DSWx-HLS_T25MER_20230504T123259Z_20230506T164750Z_S2B_30_v1.0_B05_WTR-1.tif',\n",
       "   'hreflang': 'en-US',\n",
       "   'href': 'https://archive.podaac.earthdata.nasa.gov/podaac-ops-cumulus-protected/OPERA_L3_DSWX-HLS_PROVISIONAL_V1/OPERA_L3_DSWx-HLS_T25MER_20230504T123259Z_20230506T164750Z_S2B_30_v1.0_B05_WTR-1.tif'},\n",
       "  {'rel': 'http://esipfed.org/ns/fedsearch/1.1/s3#',\n",
       "   'title': 'This link provides direct download access via S3 to the granule',\n",
       "   'hreflang': 'en-US',\n",
       "   'href': 's3://podaac-ops-cumulus-protected/OPERA_L3_DSWX-HLS_PROVISIONAL_V1/OPERA_L3_DSWx-HLS_T25MER_20230504T123259Z_20230506T164750Z_S2B_30_v1.0_B05_WTR-1.tif'},\n",
       "  {'rel': 'http://esipfed.org/ns/fedsearch/1.1/data#',\n",
       "   'title': 'Download OPERA_L3_DSWx-HLS_T25MER_20230504T123259Z_20230506T164750Z_S2B_30_v1.0_B06_WTR-2.tif',\n",
       "   'hreflang': 'en-US',\n",
       "   'href': 'https://archive.podaac.earthdata.nasa.gov/podaac-ops-cumulus-protected/OPERA_L3_DSWX-HLS_PROVISIONAL_V1/OPERA_L3_DSWx-HLS_T25MER_20230504T123259Z_20230506T164750Z_S2B_30_v1.0_B06_WTR-2.tif'},\n",
       "  {'rel': 'http://esipfed.org/ns/fedsearch/1.1/s3#',\n",
       "   'title': 'This link provides direct download access via S3 to the granule',\n",
       "   'hreflang': 'en-US',\n",
       "   'href': 's3://podaac-ops-cumulus-protected/OPERA_L3_DSWX-HLS_PROVISIONAL_V1/OPERA_L3_DSWx-HLS_T25MER_20230504T123259Z_20230506T164750Z_S2B_30_v1.0_B06_WTR-2.tif'},\n",
       "  {'rel': 'http://esipfed.org/ns/fedsearch/1.1/data#',\n",
       "   'title': 'Download OPERA_L3_DSWx-HLS_T25MER_20230504T123259Z_20230506T164750Z_S2B_30_v1.0_B07_LAND.tif',\n",
       "   'hreflang': 'en-US',\n",
       "   'href': 'https://archive.podaac.earthdata.nasa.gov/podaac-ops-cumulus-protected/OPERA_L3_DSWX-HLS_PROVISIONAL_V1/OPERA_L3_DSWx-HLS_T25MER_20230504T123259Z_20230506T164750Z_S2B_30_v1.0_B07_LAND.tif'},\n",
       "  {'rel': 'http://esipfed.org/ns/fedsearch/1.1/s3#',\n",
       "   'title': 'This link provides direct download access via S3 to the granule',\n",
       "   'hreflang': 'en-US',\n",
       "   'href': 's3://podaac-ops-cumulus-protected/OPERA_L3_DSWX-HLS_PROVISIONAL_V1/OPERA_L3_DSWx-HLS_T25MER_20230504T123259Z_20230506T164750Z_S2B_30_v1.0_B07_LAND.tif'},\n",
       "  {'rel': 'http://esipfed.org/ns/fedsearch/1.1/data#',\n",
       "   'title': 'Download OPERA_L3_DSWx-HLS_T25MER_20230504T123259Z_20230506T164750Z_S2B_30_v1.0_B08_SHAD.tif',\n",
       "   'hreflang': 'en-US',\n",
       "   'href': 'https://archive.podaac.earthdata.nasa.gov/podaac-ops-cumulus-protected/OPERA_L3_DSWX-HLS_PROVISIONAL_V1/OPERA_L3_DSWx-HLS_T25MER_20230504T123259Z_20230506T164750Z_S2B_30_v1.0_B08_SHAD.tif'},\n",
       "  {'rel': 'http://esipfed.org/ns/fedsearch/1.1/s3#',\n",
       "   'title': 'This link provides direct download access via S3 to the granule',\n",
       "   'hreflang': 'en-US',\n",
       "   'href': 's3://podaac-ops-cumulus-protected/OPERA_L3_DSWX-HLS_PROVISIONAL_V1/OPERA_L3_DSWx-HLS_T25MER_20230504T123259Z_20230506T164750Z_S2B_30_v1.0_B08_SHAD.tif'},\n",
       "  {'rel': 'http://esipfed.org/ns/fedsearch/1.1/data#',\n",
       "   'title': 'Download OPERA_L3_DSWx-HLS_T25MER_20230504T123259Z_20230506T164750Z_S2B_30_v1.0_B09_CLOUD.tif',\n",
       "   'hreflang': 'en-US',\n",
       "   'href': 'https://archive.podaac.earthdata.nasa.gov/podaac-ops-cumulus-protected/OPERA_L3_DSWX-HLS_PROVISIONAL_V1/OPERA_L3_DSWx-HLS_T25MER_20230504T123259Z_20230506T164750Z_S2B_30_v1.0_B09_CLOUD.tif'},\n",
       "  {'rel': 'http://esipfed.org/ns/fedsearch/1.1/s3#',\n",
       "   'title': 'This link provides direct download access via S3 to the granule',\n",
       "   'hreflang': 'en-US',\n",
       "   'href': 's3://podaac-ops-cumulus-protected/OPERA_L3_DSWX-HLS_PROVISIONAL_V1/OPERA_L3_DSWx-HLS_T25MER_20230504T123259Z_20230506T164750Z_S2B_30_v1.0_B09_CLOUD.tif'},\n",
       "  {'rel': 'http://esipfed.org/ns/fedsearch/1.1/data#',\n",
       "   'title': 'Download OPERA_L3_DSWx-HLS_T25MER_20230504T123259Z_20230506T164750Z_S2B_30_v1.0_B10_DEM.tif',\n",
       "   'hreflang': 'en-US',\n",
       "   'href': 'https://archive.podaac.earthdata.nasa.gov/podaac-ops-cumulus-protected/OPERA_L3_DSWX-HLS_PROVISIONAL_V1/OPERA_L3_DSWx-HLS_T25MER_20230504T123259Z_20230506T164750Z_S2B_30_v1.0_B10_DEM.tif'},\n",
       "  {'rel': 'http://esipfed.org/ns/fedsearch/1.1/s3#',\n",
       "   'title': 'This link provides direct download access via S3 to the granule',\n",
       "   'hreflang': 'en-US',\n",
       "   'href': 's3://podaac-ops-cumulus-protected/OPERA_L3_DSWX-HLS_PROVISIONAL_V1/OPERA_L3_DSWx-HLS_T25MER_20230504T123259Z_20230506T164750Z_S2B_30_v1.0_B10_DEM.tif'},\n",
       "  {'rel': 'http://esipfed.org/ns/fedsearch/1.1/metadata#',\n",
       "   'title': 'Download OPERA_L3_DSWx-HLS_T25MER_20230504T123259Z_20230506T164750Z_S2B_30_v1.0.iso.xml',\n",
       "   'hreflang': 'en-US',\n",
       "   'href': 'https://archive.podaac.earthdata.nasa.gov/podaac-ops-cumulus-public/OPERA_L3_DSWX-HLS_PROVISIONAL_V1/OPERA_L3_DSWx-HLS_T25MER_20230504T123259Z_20230506T164750Z_S2B_30_v1.0.iso.xml'},\n",
       "  {'rel': 'http://esipfed.org/ns/fedsearch/1.1/metadata#',\n",
       "   'title': 'This link provides direct download access via S3 to the granule',\n",
       "   'hreflang': 'en-US',\n",
       "   'href': 's3://podaac-ops-cumulus-public/OPERA_L3_DSWX-HLS_PROVISIONAL_V1/OPERA_L3_DSWx-HLS_T25MER_20230504T123259Z_20230506T164750Z_S2B_30_v1.0.iso.xml'},\n",
       "  {'rel': 'http://esipfed.org/ns/fedsearch/1.1/metadata#',\n",
       "   'title': 'Download OPERA_L3_DSWx-HLS_T25MER_20230504T123259Z_20230506T164750Z_S2B_30_v1.0_B01_WTR.tif.md5',\n",
       "   'hreflang': 'en-US',\n",
       "   'href': 'https://archive.podaac.earthdata.nasa.gov/podaac-ops-cumulus-public/OPERA_L3_DSWX-HLS_PROVISIONAL_V1/OPERA_L3_DSWx-HLS_T25MER_20230504T123259Z_20230506T164750Z_S2B_30_v1.0_B01_WTR.tif.md5'},\n",
       "  {'rel': 'http://esipfed.org/ns/fedsearch/1.1/metadata#',\n",
       "   'title': 'This link provides direct download access via S3 to the granule',\n",
       "   'hreflang': 'en-US',\n",
       "   'href': 's3://podaac-ops-cumulus-public/OPERA_L3_DSWX-HLS_PROVISIONAL_V1/OPERA_L3_DSWx-HLS_T25MER_20230504T123259Z_20230506T164750Z_S2B_30_v1.0_B01_WTR.tif.md5'},\n",
       "  {'rel': 'http://esipfed.org/ns/fedsearch/1.1/metadata#',\n",
       "   'title': 'Download OPERA_L3_DSWx-HLS_T25MER_20230504T123259Z_20230506T164750Z_S2B_30_v1.0_B02_BWTR.tif.md5',\n",
       "   'hreflang': 'en-US',\n",
       "   'href': 'https://archive.podaac.earthdata.nasa.gov/podaac-ops-cumulus-public/OPERA_L3_DSWX-HLS_PROVISIONAL_V1/OPERA_L3_DSWx-HLS_T25MER_20230504T123259Z_20230506T164750Z_S2B_30_v1.0_B02_BWTR.tif.md5'},\n",
       "  {'rel': 'http://esipfed.org/ns/fedsearch/1.1/metadata#',\n",
       "   'title': 'This link provides direct download access via S3 to the granule',\n",
       "   'hreflang': 'en-US',\n",
       "   'href': 's3://podaac-ops-cumulus-public/OPERA_L3_DSWX-HLS_PROVISIONAL_V1/OPERA_L3_DSWx-HLS_T25MER_20230504T123259Z_20230506T164750Z_S2B_30_v1.0_B02_BWTR.tif.md5'},\n",
       "  {'rel': 'http://esipfed.org/ns/fedsearch/1.1/metadata#',\n",
       "   'title': 'Download OPERA_L3_DSWx-HLS_T25MER_20230504T123259Z_20230506T164750Z_S2B_30_v1.0_B03_CONF.tif.md5',\n",
       "   'hreflang': 'en-US',\n",
       "   'href': 'https://archive.podaac.earthdata.nasa.gov/podaac-ops-cumulus-public/OPERA_L3_DSWX-HLS_PROVISIONAL_V1/OPERA_L3_DSWx-HLS_T25MER_20230504T123259Z_20230506T164750Z_S2B_30_v1.0_B03_CONF.tif.md5'},\n",
       "  {'rel': 'http://esipfed.org/ns/fedsearch/1.1/metadata#',\n",
       "   'title': 'This link provides direct download access via S3 to the granule',\n",
       "   'hreflang': 'en-US',\n",
       "   'href': 's3://podaac-ops-cumulus-public/OPERA_L3_DSWX-HLS_PROVISIONAL_V1/OPERA_L3_DSWx-HLS_T25MER_20230504T123259Z_20230506T164750Z_S2B_30_v1.0_B03_CONF.tif.md5'},\n",
       "  {'rel': 'http://esipfed.org/ns/fedsearch/1.1/metadata#',\n",
       "   'title': 'Download OPERA_L3_DSWx-HLS_T25MER_20230504T123259Z_20230506T164750Z_S2B_30_v1.0_B04_DIAG.tif.md5',\n",
       "   'hreflang': 'en-US',\n",
       "   'href': 'https://archive.podaac.earthdata.nasa.gov/podaac-ops-cumulus-public/OPERA_L3_DSWX-HLS_PROVISIONAL_V1/OPERA_L3_DSWx-HLS_T25MER_20230504T123259Z_20230506T164750Z_S2B_30_v1.0_B04_DIAG.tif.md5'},\n",
       "  {'rel': 'http://esipfed.org/ns/fedsearch/1.1/metadata#',\n",
       "   'title': 'This link provides direct download access via S3 to the granule',\n",
       "   'hreflang': 'en-US',\n",
       "   'href': 's3://podaac-ops-cumulus-public/OPERA_L3_DSWX-HLS_PROVISIONAL_V1/OPERA_L3_DSWx-HLS_T25MER_20230504T123259Z_20230506T164750Z_S2B_30_v1.0_B04_DIAG.tif.md5'},\n",
       "  {'rel': 'http://esipfed.org/ns/fedsearch/1.1/metadata#',\n",
       "   'title': 'Download OPERA_L3_DSWx-HLS_T25MER_20230504T123259Z_20230506T164750Z_S2B_30_v1.0_B05_WTR-1.tif.md5',\n",
       "   'hreflang': 'en-US',\n",
       "   'href': 'https://archive.podaac.earthdata.nasa.gov/podaac-ops-cumulus-public/OPERA_L3_DSWX-HLS_PROVISIONAL_V1/OPERA_L3_DSWx-HLS_T25MER_20230504T123259Z_20230506T164750Z_S2B_30_v1.0_B05_WTR-1.tif.md5'},\n",
       "  {'rel': 'http://esipfed.org/ns/fedsearch/1.1/metadata#',\n",
       "   'title': 'This link provides direct download access via S3 to the granule',\n",
       "   'hreflang': 'en-US',\n",
       "   'href': 's3://podaac-ops-cumulus-public/OPERA_L3_DSWX-HLS_PROVISIONAL_V1/OPERA_L3_DSWx-HLS_T25MER_20230504T123259Z_20230506T164750Z_S2B_30_v1.0_B05_WTR-1.tif.md5'},\n",
       "  {'rel': 'http://esipfed.org/ns/fedsearch/1.1/metadata#',\n",
       "   'title': 'Download OPERA_L3_DSWx-HLS_T25MER_20230504T123259Z_20230506T164750Z_S2B_30_v1.0_B06_WTR-2.tif.md5',\n",
       "   'hreflang': 'en-US',\n",
       "   'href': 'https://archive.podaac.earthdata.nasa.gov/podaac-ops-cumulus-public/OPERA_L3_DSWX-HLS_PROVISIONAL_V1/OPERA_L3_DSWx-HLS_T25MER_20230504T123259Z_20230506T164750Z_S2B_30_v1.0_B06_WTR-2.tif.md5'},\n",
       "  {'rel': 'http://esipfed.org/ns/fedsearch/1.1/metadata#',\n",
       "   'title': 'This link provides direct download access via S3 to the granule',\n",
       "   'hreflang': 'en-US',\n",
       "   'href': 's3://podaac-ops-cumulus-public/OPERA_L3_DSWX-HLS_PROVISIONAL_V1/OPERA_L3_DSWx-HLS_T25MER_20230504T123259Z_20230506T164750Z_S2B_30_v1.0_B06_WTR-2.tif.md5'},\n",
       "  {'rel': 'http://esipfed.org/ns/fedsearch/1.1/metadata#',\n",
       "   'title': 'Download OPERA_L3_DSWx-HLS_T25MER_20230504T123259Z_20230506T164750Z_S2B_30_v1.0_B07_LAND.tif.md5',\n",
       "   'hreflang': 'en-US',\n",
       "   'href': 'https://archive.podaac.earthdata.nasa.gov/podaac-ops-cumulus-public/OPERA_L3_DSWX-HLS_PROVISIONAL_V1/OPERA_L3_DSWx-HLS_T25MER_20230504T123259Z_20230506T164750Z_S2B_30_v1.0_B07_LAND.tif.md5'},\n",
       "  {'rel': 'http://esipfed.org/ns/fedsearch/1.1/metadata#',\n",
       "   'title': 'This link provides direct download access via S3 to the granule',\n",
       "   'hreflang': 'en-US',\n",
       "   'href': 's3://podaac-ops-cumulus-public/OPERA_L3_DSWX-HLS_PROVISIONAL_V1/OPERA_L3_DSWx-HLS_T25MER_20230504T123259Z_20230506T164750Z_S2B_30_v1.0_B07_LAND.tif.md5'},\n",
       "  {'rel': 'http://esipfed.org/ns/fedsearch/1.1/metadata#',\n",
       "   'title': 'Download OPERA_L3_DSWx-HLS_T25MER_20230504T123259Z_20230506T164750Z_S2B_30_v1.0_B08_SHAD.tif.md5',\n",
       "   'hreflang': 'en-US',\n",
       "   'href': 'https://archive.podaac.earthdata.nasa.gov/podaac-ops-cumulus-public/OPERA_L3_DSWX-HLS_PROVISIONAL_V1/OPERA_L3_DSWx-HLS_T25MER_20230504T123259Z_20230506T164750Z_S2B_30_v1.0_B08_SHAD.tif.md5'},\n",
       "  {'rel': 'http://esipfed.org/ns/fedsearch/1.1/metadata#',\n",
       "   'title': 'This link provides direct download access via S3 to the granule',\n",
       "   'hreflang': 'en-US',\n",
       "   'href': 's3://podaac-ops-cumulus-public/OPERA_L3_DSWX-HLS_PROVISIONAL_V1/OPERA_L3_DSWx-HLS_T25MER_20230504T123259Z_20230506T164750Z_S2B_30_v1.0_B08_SHAD.tif.md5'},\n",
       "  {'rel': 'http://esipfed.org/ns/fedsearch/1.1/metadata#',\n",
       "   'title': 'Download OPERA_L3_DSWx-HLS_T25MER_20230504T123259Z_20230506T164750Z_S2B_30_v1.0_B09_CLOUD.tif.md5',\n",
       "   'hreflang': 'en-US',\n",
       "   'href': 'https://archive.podaac.earthdata.nasa.gov/podaac-ops-cumulus-public/OPERA_L3_DSWX-HLS_PROVISIONAL_V1/OPERA_L3_DSWx-HLS_T25MER_20230504T123259Z_20230506T164750Z_S2B_30_v1.0_B09_CLOUD.tif.md5'},\n",
       "  {'rel': 'http://esipfed.org/ns/fedsearch/1.1/metadata#',\n",
       "   'title': 'This link provides direct download access via S3 to the granule',\n",
       "   'hreflang': 'en-US',\n",
       "   'href': 's3://podaac-ops-cumulus-public/OPERA_L3_DSWX-HLS_PROVISIONAL_V1/OPERA_L3_DSWx-HLS_T25MER_20230504T123259Z_20230506T164750Z_S2B_30_v1.0_B09_CLOUD.tif.md5'},\n",
       "  {'rel': 'http://esipfed.org/ns/fedsearch/1.1/metadata#',\n",
       "   'title': 'Download OPERA_L3_DSWx-HLS_T25MER_20230504T123259Z_20230506T164750Z_S2B_30_v1.0_B10_DEM.tif.md5',\n",
       "   'hreflang': 'en-US',\n",
       "   'href': 'https://archive.podaac.earthdata.nasa.gov/podaac-ops-cumulus-public/OPERA_L3_DSWX-HLS_PROVISIONAL_V1/OPERA_L3_DSWx-HLS_T25MER_20230504T123259Z_20230506T164750Z_S2B_30_v1.0_B10_DEM.tif.md5'},\n",
       "  {'rel': 'http://esipfed.org/ns/fedsearch/1.1/metadata#',\n",
       "   'title': 'This link provides direct download access via S3 to the granule',\n",
       "   'hreflang': 'en-US',\n",
       "   'href': 's3://podaac-ops-cumulus-public/OPERA_L3_DSWX-HLS_PROVISIONAL_V1/OPERA_L3_DSWx-HLS_T25MER_20230504T123259Z_20230506T164750Z_S2B_30_v1.0_B10_DEM.tif.md5'},\n",
       "  {'rel': 'http://esipfed.org/ns/fedsearch/1.1/metadata#',\n",
       "   'title': 'api endpoint to retrieve temporary credentials valid for same-region direct s3 access',\n",
       "   'hreflang': 'en-US',\n",
       "   'href': 'https://archive.podaac.earthdata.nasa.gov/s3credentials'},\n",
       "  {'inherited': True,\n",
       "   'rel': 'http://esipfed.org/ns/fedsearch/1.1/documentation#',\n",
       "   'hreflang': 'en-US',\n",
       "   'href': 'https://podaac.jpl.nasa.gov/CitingPODAAC'},\n",
       "  {'inherited': True,\n",
       "   'rel': 'http://esipfed.org/ns/fedsearch/1.1/documentation#',\n",
       "   'hreflang': 'en-US',\n",
       "   'href': 'https://www.jpl.nasa.gov/go/opera'},\n",
       "  {'inherited': True,\n",
       "   'rel': 'http://esipfed.org/ns/fedsearch/1.1/data#',\n",
       "   'hreflang': 'en-US',\n",
       "   'href': 'https://cmr.earthdata.nasa.gov/virtual-directory/collections/C2617126679-POCLOUD'},\n",
       "  {'inherited': True,\n",
       "   'rel': 'http://esipfed.org/ns/fedsearch/1.1/data#',\n",
       "   'hreflang': 'en-US',\n",
       "   'href': 'https://search.earthdata.nasa.gov/search/granules?p=C2617126679-POCLOUD'},\n",
       "  {'inherited': True,\n",
       "   'rel': 'http://esipfed.org/ns/fedsearch/1.1/metadata#',\n",
       "   'hreflang': 'en-US',\n",
       "   'href': 'https://github.com/podaac/data-subscriber'},\n",
       "  {'inherited': True,\n",
       "   'rel': 'http://esipfed.org/ns/fedsearch/1.1/documentation#',\n",
       "   'hreflang': 'en-US',\n",
       "   'href': 'https://doi.org/10.3390/rs11040374'},\n",
       "  {'inherited': True,\n",
       "   'rel': 'http://esipfed.org/ns/fedsearch/1.1/documentation#',\n",
       "   'hreflang': 'en-US',\n",
       "   'href': 'https://d2pn8kiwq2w21t.cloudfront.net/documents/ProductSpec_DSWX_URS309746.pdf'},\n",
       "  {'inherited': True,\n",
       "   'rel': 'http://esipfed.org/ns/fedsearch/1.1/documentation#',\n",
       "   'hreflang': 'en-US',\n",
       "   'href': 'https://d2pn8kiwq2w21t.cloudfront.net/documents/DSWx_visualization_guide_3w9eXpm.pdf'},\n",
       "  {'inherited': True,\n",
       "   'rel': 'http://esipfed.org/ns/fedsearch/1.1/documentation#',\n",
       "   'hreflang': 'en-US',\n",
       "   'href': 'https://www.jpl.nasa.gov/go/opera/products/dswx-product-suite'},\n",
       "  {'inherited': True,\n",
       "   'rel': 'http://esipfed.org/ns/fedsearch/1.1/documentation#',\n",
       "   'hreflang': 'en-US',\n",
       "   'href': 'https://github.com/OPERA-Cal-Val/OPERA_Applications'},\n",
       "  {'inherited': True,\n",
       "   'rel': 'http://esipfed.org/ns/fedsearch/1.1/metadata#',\n",
       "   'hreflang': 'en-US',\n",
       "   'href': 'https://podaac.jpl.nasa.gov/dataset/OPERA_DSWX-HLS_PROVISIONAL_V1'},\n",
       "  {'inherited': True,\n",
       "   'rel': 'http://esipfed.org/ns/fedsearch/1.1/documentation#',\n",
       "   'hreflang': 'en-US',\n",
       "   'href': 'https://d2pn8kiwq2w21t.cloudfront.net/documents/ProductSpec_DSWX_URS309746.pdf'}]}"
      ]
     },
     "execution_count": 8,
     "metadata": {},
     "output_type": "execute_result"
    }
   ],
   "source": [
    "dswx_metadata[0]"
   ]
  },
  {
   "cell_type": "markdown",
   "id": "b6626507",
   "metadata": {},
   "source": [
    "## Formatting"
   ]
  },
  {
   "cell_type": "code",
   "execution_count": 9,
   "id": "6403159d",
   "metadata": {},
   "outputs": [],
   "source": [
    "def format_dswx(item):\n",
    "    out = {}\n",
    "    granule_id = item['producer_granule_id']\n",
    "    out['granule_id'] = granule_id\n",
    "    out['time_acquired'] = pd.to_datetime(item['time_start'])\n",
    "    out['time_updated'] = pd.to_datetime(item['updated'])\n",
    "    out['B01_WTR_link'] = next(link_data['href'] for link_data in item['links'] \n",
    "                           if all(kw in link_data['href'] for kw in ['B01_WTR', 'https://']))\n",
    "    \n",
    "    bbox_str = item['boxes'][0].split(' ')\n",
    "    bbox_floats = [float(coord) for coord in bbox_str]\n",
    "    out['time_acq_str'] = granule_id.split('_')[4]\n",
    "    out['mgrs_tile_id'] = granule_id.split('_')[3]\n",
    "    ymin, xmin, ymax, xmax = bbox_floats\n",
    "    # Fix dateline issues\n",
    "    if abs(xmax - xmin) > 180:\n",
    "        xmin = min(xmax, xmin)\n",
    "        xmax = max(xmax, xmin)\n",
    "        xmax = xmax - 360\n",
    "    out['geometry'] = box(xmin, ymin, xmax, ymax)\n",
    "    return out"
   ]
  },
  {
   "cell_type": "code",
   "execution_count": 11,
   "id": "22df7610",
   "metadata": {},
   "outputs": [
    {
     "name": "stderr",
     "output_type": "stream",
     "text": [
      "100%|███████████████████████████████████████████████████████████████████████████████████████████| 50596/50596 [01:06<00:00, 759.60it/s]\n"
     ]
    }
   ],
   "source": [
    "dswx_data_formatted = list(map(format_dswx, tqdm(dswx_metadata)))"
   ]
  },
  {
   "cell_type": "code",
   "execution_count": 12,
   "id": "afb38cf6",
   "metadata": {},
   "outputs": [
    {
     "data": {
      "text/html": [
       "<div>\n",
       "<style scoped>\n",
       "    .dataframe tbody tr th:only-of-type {\n",
       "        vertical-align: middle;\n",
       "    }\n",
       "\n",
       "    .dataframe tbody tr th {\n",
       "        vertical-align: top;\n",
       "    }\n",
       "\n",
       "    .dataframe thead th {\n",
       "        text-align: right;\n",
       "    }\n",
       "</style>\n",
       "<table border=\"1\" class=\"dataframe\">\n",
       "  <thead>\n",
       "    <tr style=\"text-align: right;\">\n",
       "      <th></th>\n",
       "      <th>granule_id</th>\n",
       "      <th>time_acquired</th>\n",
       "      <th>time_updated</th>\n",
       "      <th>B01_WTR_link</th>\n",
       "      <th>time_acq_str</th>\n",
       "      <th>mgrs_tile_id</th>\n",
       "      <th>geometry</th>\n",
       "    </tr>\n",
       "  </thead>\n",
       "  <tbody>\n",
       "    <tr>\n",
       "      <th>0</th>\n",
       "      <td>OPERA_L3_DSWx-HLS_T25MER_20230504T123259Z_2023...</td>\n",
       "      <td>2023-05-04 12:33:08.845000+00:00</td>\n",
       "      <td>2023-05-06 16:51:17.371000+00:00</td>\n",
       "      <td>https://archive.podaac.earthdata.nasa.gov/poda...</td>\n",
       "      <td>20230504T123259Z</td>\n",
       "      <td>T25MER</td>\n",
       "      <td>POLYGON ((-32.01000 -4.52400, -32.01000 -3.530...</td>\n",
       "    </tr>\n",
       "    <tr>\n",
       "      <th>1</th>\n",
       "      <td>OPERA_L3_DSWx-HLS_T42XVQ_20230504T125639Z_2023...</td>\n",
       "      <td>2023-05-04 12:56:39.187000+00:00</td>\n",
       "      <td>2023-05-06 08:15:15.550000+00:00</td>\n",
       "      <td>https://archive.podaac.earthdata.nasa.gov/poda...</td>\n",
       "      <td>20230504T125639Z</td>\n",
       "      <td>T42XVQ</td>\n",
       "      <td>POLYGON ((69.57000 80.12500, 69.57000 81.14800...</td>\n",
       "    </tr>\n",
       "    <tr>\n",
       "      <th>2</th>\n",
       "      <td>OPERA_L3_DSWx-HLS_T41XNK_20230504T125639Z_2023...</td>\n",
       "      <td>2023-05-04 12:56:39.187000+00:00</td>\n",
       "      <td>2023-05-06 08:15:16.575000+00:00</td>\n",
       "      <td>https://archive.podaac.earthdata.nasa.gov/poda...</td>\n",
       "      <td>20230504T125639Z</td>\n",
       "      <td>T41XNK</td>\n",
       "      <td>POLYGON ((69.36600 80.11600, 69.36600 81.14900...</td>\n",
       "    </tr>\n",
       "    <tr>\n",
       "      <th>3</th>\n",
       "      <td>OPERA_L3_DSWx-HLS_T42XVR_20230504T125639Z_2023...</td>\n",
       "      <td>2023-05-04 12:56:39.187000+00:00</td>\n",
       "      <td>2023-05-08 02:12:16.707000+00:00</td>\n",
       "      <td>https://archive.podaac.earthdata.nasa.gov/poda...</td>\n",
       "      <td>20230504T125639Z</td>\n",
       "      <td>T42XVR</td>\n",
       "      <td>POLYGON ((69.63400 81.01600, 69.63400 82.04400...</td>\n",
       "    </tr>\n",
       "    <tr>\n",
       "      <th>4</th>\n",
       "      <td>OPERA_L3_DSWx-HLS_T40XER_20230504T125639Z_2023...</td>\n",
       "      <td>2023-05-04 12:56:39.187000+00:00</td>\n",
       "      <td>2023-05-08 02:13:14.809000+00:00</td>\n",
       "      <td>https://archive.podaac.earthdata.nasa.gov/poda...</td>\n",
       "      <td>20230504T125639Z</td>\n",
       "      <td>T40XER</td>\n",
       "      <td>POLYGON ((64.07000 81.00700, 64.07000 82.04500...</td>\n",
       "    </tr>\n",
       "  </tbody>\n",
       "</table>\n",
       "</div>"
      ],
      "text/plain": [
       "                                          granule_id   \n",
       "0  OPERA_L3_DSWx-HLS_T25MER_20230504T123259Z_2023...  \\\n",
       "1  OPERA_L3_DSWx-HLS_T42XVQ_20230504T125639Z_2023...   \n",
       "2  OPERA_L3_DSWx-HLS_T41XNK_20230504T125639Z_2023...   \n",
       "3  OPERA_L3_DSWx-HLS_T42XVR_20230504T125639Z_2023...   \n",
       "4  OPERA_L3_DSWx-HLS_T40XER_20230504T125639Z_2023...   \n",
       "\n",
       "                     time_acquired                     time_updated   \n",
       "0 2023-05-04 12:33:08.845000+00:00 2023-05-06 16:51:17.371000+00:00  \\\n",
       "1 2023-05-04 12:56:39.187000+00:00 2023-05-06 08:15:15.550000+00:00   \n",
       "2 2023-05-04 12:56:39.187000+00:00 2023-05-06 08:15:16.575000+00:00   \n",
       "3 2023-05-04 12:56:39.187000+00:00 2023-05-08 02:12:16.707000+00:00   \n",
       "4 2023-05-04 12:56:39.187000+00:00 2023-05-08 02:13:14.809000+00:00   \n",
       "\n",
       "                                        B01_WTR_link      time_acq_str   \n",
       "0  https://archive.podaac.earthdata.nasa.gov/poda...  20230504T123259Z  \\\n",
       "1  https://archive.podaac.earthdata.nasa.gov/poda...  20230504T125639Z   \n",
       "2  https://archive.podaac.earthdata.nasa.gov/poda...  20230504T125639Z   \n",
       "3  https://archive.podaac.earthdata.nasa.gov/poda...  20230504T125639Z   \n",
       "4  https://archive.podaac.earthdata.nasa.gov/poda...  20230504T125639Z   \n",
       "\n",
       "  mgrs_tile_id                                           geometry  \n",
       "0       T25MER  POLYGON ((-32.01000 -4.52400, -32.01000 -3.530...  \n",
       "1       T42XVQ  POLYGON ((69.57000 80.12500, 69.57000 81.14800...  \n",
       "2       T41XNK  POLYGON ((69.36600 80.11600, 69.36600 81.14900...  \n",
       "3       T42XVR  POLYGON ((69.63400 81.01600, 69.63400 82.04400...  \n",
       "4       T40XER  POLYGON ((64.07000 81.00700, 64.07000 82.04500...  "
      ]
     },
     "execution_count": 12,
     "metadata": {},
     "output_type": "execute_result"
    }
   ],
   "source": [
    "df = gpd.GeoDataFrame(dswx_data_formatted)\n",
    "df.head()"
   ]
  },
  {
   "cell_type": "code",
   "execution_count": 13,
   "id": "686f04a5",
   "metadata": {},
   "outputs": [
    {
     "data": {
      "text/plain": [
       "<Axes: >"
      ]
     },
     "execution_count": 13,
     "metadata": {},
     "output_type": "execute_result"
    },
    {
     "data": {
      "image/png": "[encoded data removed]",
      "text/plain": [
       "<Figure size 640x480 with 1 Axes>"
      ]
     },
     "metadata": {},
     "output_type": "display_data"
    }
   ],
   "source": [
    "df.plot()"
   ]
  },
  {
   "cell_type": "code",
   "execution_count": 14,
   "id": "722c32fb",
   "metadata": {},
   "outputs": [],
   "source": [
    "# df.to_file('dswx_metadata.geojson', driver='GeoJSON')"
   ]
  },
  {
   "cell_type": "markdown",
   "id": "98c4216d",
   "metadata": {},
   "source": [
    "## Compute nodata pixels"
   ]
  },
  {
   "cell_type": "code",
   "execution_count": 22,
   "id": "417f174b",
   "metadata": {},
   "outputs": [],
   "source": [
    "def get_tag_data(url: str) -> dict:\n",
    "    with rasterio.open(url) as ds:\n",
    "        t = ds.tags()\n",
    "    out = {key.lower(): val for key, val in t.items()}\n",
    "    return out\n",
    "\n",
    "@backoff.on_exception(backoff.expo,\n",
    "                      Exception,\n",
    "                      max_tries=10)\n",
    "def get_tag_data_from_item(item: dict) -> dict:\n",
    "    url = item['B01_WTR_link']\n",
    "    return get_tag_data(url)"
   ]
  },
  {
   "cell_type": "markdown",
   "id": "9f55a2df",
   "metadata": {},
   "source": [
    "Sequentially:"
   ]
  },
  {
   "cell_type": "code",
   "execution_count": 23,
   "id": "4613612e",
   "metadata": {},
   "outputs": [],
   "source": [
    "# tag_info = list(map(get_tag_data_from_item, tqdm(dswx_data_formatted[:4])))\n",
    "# tag_info"
   ]
  },
  {
   "cell_type": "markdown",
   "id": "aaefb97b",
   "metadata": {},
   "source": [
    "Multithreading:"
   ]
  },
  {
   "cell_type": "code",
   "execution_count": 24,
   "id": "7fb64dfa",
   "metadata": {
    "scrolled": true
   },
   "outputs": [
    {
     "name": "stderr",
     "output_type": "stream",
     "text": [
      "100%|████████████████████████████████████████████████████████████████████████████████████████████| 50596/50596 [23:17<00:00, 36.21it/s]\n"
     ]
    }
   ],
   "source": [
    "n = len(dswx_data_formatted)\n",
    "with concurrent.futures.ThreadPoolExecutor(max_workers=100) as executor:\n",
    "    tag_info = list(tqdm(executor.map(get_tag_data_from_item, dswx_data_formatted[:]), total=n))"
   ]
  },
  {
   "cell_type": "code",
   "execution_count": 26,
   "id": "621b56a3",
   "metadata": {},
   "outputs": [],
   "source": [
    "dswx_data_formatted_plus_tags = [{**item, **tag_item} for (item, tag_item) in zip(dswx_data_formatted, tag_info)]\n",
    "df_tags = gpd.GeoDataFrame(dswx_data_formatted_plus_tags)"
   ]
  },
  {
   "cell_type": "code",
   "execution_count": 27,
   "id": "8d47e925",
   "metadata": {},
   "outputs": [],
   "source": [
    "df_tags.to_file('dswx_metadata_with_tags.geojson', driver='GeoJSON')"
   ]
  },
  {
   "cell_type": "code",
   "execution_count": 28,
   "id": "756bff1f",
   "metadata": {},
   "outputs": [
    {
     "data": {
      "text/plain": [
       "(50596, 51)"
      ]
     },
     "execution_count": 28,
     "metadata": {},
     "output_type": "execute_result"
    }
   ],
   "source": [
    "df_tags.shape"
   ]
  }
 ],
 "metadata": {
  "kernelspec": {
   "display_name": "dswx_val",
   "language": "python",
   "name": "dswx_val"
  },
  "language_info": {
   "codemirror_mode": {
    "name": "ipython",
    "version": 3
   },
   "file_extension": ".py",
   "mimetype": "text/x-python",
   "name": "python",
   "nbconvert_exporter": "python",
   "pygments_lexer": "ipython3",
   "version": "3.10.10"
  }
 },
 "nbformat": 4,
 "nbformat_minor": 5
}
