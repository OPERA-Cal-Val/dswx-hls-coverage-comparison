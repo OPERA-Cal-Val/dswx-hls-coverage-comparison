{
 "cells": [
  {
   "cell_type": "code",
   "execution_count": 13,
   "id": "4433a8ae",
   "metadata": {},
   "outputs": [],
   "source": [
    "from cmr import GranuleQuery, CollectionQuery, VariableQuery\n",
    "import datetime\n",
    "from shapely.geometry import Polygon\n",
    "import pandas as pd\n",
    "import geopandas as gpd\n",
    "from tqdm import tqdm\n",
    "from osgeo import gdal\n",
    "import rasterio\n",
    "import concurrent.futures\n",
    "import backoff\n",
    "from rasterio.errors import RasterioIOError\n",
    "import requests\n",
    "import boto3\n",
    "from rasterio.session import AWSSession\n",
    "import os\n",
    "import numpy as np\n",
    "from pathlib import Path"
   ]
  },
  {
   "cell_type": "markdown",
   "id": "f8b2cd3f",
   "metadata": {},
   "source": [
    "# Linking DSWx from HLS\n",
    "\n",
    "HLS has wonky datestrings"
   ]
  },
  {
   "cell_type": "markdown",
   "id": "210dd9e5",
   "metadata": {},
   "source": [
    "Automating this url: https://cmr.earthdata.nasa.gov/search/granules.umm_json?short_name=OPERA_L3_DSWX-HLS_PROVISIONAL_V1&granule_ur=*T18GYP*20230410T142428Z*&options[granule_ur][pattern]=true"
   ]
  },
  {
   "cell_type": "code",
   "execution_count": 26,
   "id": "08750438",
   "metadata": {},
   "outputs": [],
   "source": [
    "base_url = 'https://cmr.earthdata.nasa.gov/search/granules.umm_json?short_name=OPERA_L3_DSWX-HLS_PROVISIONAL_V1&'\n",
    "\n",
    "sample_hls_id_s2a = 'HLS.S30.T25MER.2023124T123259.v2.0'\n",
    "sample_hls_id_l8 = 'HLS.L30.T18TWM.2023125T153242.v2.0'\n",
    "\n",
    "podaac_url = 'https://archive.podaac.earthdata.nasa.gov/podaac-ops-cumulus-protected/OPERA_L3_DSWX-HLS_PROVISIONAL_V1'\n",
    "              \n",
    "\n",
    "def format_hls_dt(dt_hls: str) -> str:\n",
    "    date, time = dt_hls.split('T')\n",
    "    year = date[:4]\n",
    "    year_start = datetime.datetime(int(year), 1, 1)\n",
    "    day_offset = datetime.timedelta(days=(int(date[4:]) - 1))\n",
    "    date = year_start + day_offset\n",
    "    date_str_f = date.strftime('%Y%m%d')\n",
    "    return f'{date_str_f}T{time}'\n",
    "    \n",
    "@backoff.on_exception(backoff.expo,\n",
    "                      Exception,\n",
    "                      max_tries=10)\n",
    "def get_dswx_meta_from_hls_id(hls_id: str) -> str:\n",
    "    tokens = hls_id.split('.')\n",
    "    mgrs_tile_id = tokens[2]\n",
    "    acq_time_hls = tokens[3]\n",
    "    acq_time = format_hls_dt(acq_time_hls)\n",
    "    req_url = base_url + f'granule_ur=*{mgrs_tile_id}*{acq_time}*&options[granule_ur][pattern]=true'\n",
    "    resp = requests.get(req_url).json()\n",
    "    hits = resp['hits']\n",
    "    out = {'dswx_hits': hits, 'dswx_request_url': req_url}\n",
    "    if hits:\n",
    "        dswx_id = resp['items'][0]['meta']['native-id']\n",
    "        out.update({'dswx_id': dswx_id})\n",
    "        \n",
    "        file_name = f'{dswx_id}_B01_WTR.tif'\n",
    "        url = f'{podaac_url}/{file_name}'\n",
    "        out.update({'dswx_url': url})\n",
    "    return out"
   ]
  },
  {
   "cell_type": "code",
   "execution_count": 3,
   "id": "b4bf1207",
   "metadata": {},
   "outputs": [
    {
     "data": {
      "text/plain": [
       "{'dswx_hits': 1,\n",
       " 'dswx_request_url': 'https://cmr.earthdata.nasa.gov/search/granules.umm_json?short_name=OPERA_L3_DSWX-HLS_PROVISIONAL_V1&granule_ur=*T25MER*20230504T123259*&options[granule_ur][pattern]=true',\n",
       " 'dswx_id': 'OPERA_L3_DSWx-HLS_T25MER_20230504T123259Z_20230506T164750Z_S2B_30_v1.0',\n",
       " 'dswx_url': 'https://archive.podaac.earthdata.nasa.gov/podaac-ops-cumulus-protected/OPERA_L3_DSWX-HLS_PROVISIONAL_V1/OPERA_L3_DSWx-HLS_T25MER_20230504T123259Z_20230506T164750Z_S2B_30_v1.0_B01_WTR.tif'}"
      ]
     },
     "execution_count": 3,
     "metadata": {},
     "output_type": "execute_result"
    }
   ],
   "source": [
    "r = get_dswx_meta_from_hls_id(sample_hls_id_s2a)\n",
    "r"
   ]
  },
  {
   "cell_type": "code",
   "execution_count": 4,
   "id": "b92cb4e1",
   "metadata": {},
   "outputs": [
    {
     "data": {
      "text/plain": [
       "{'dswx_hits': 1,\n",
       " 'dswx_request_url': 'https://cmr.earthdata.nasa.gov/search/granules.umm_json?short_name=OPERA_L3_DSWX-HLS_PROVISIONAL_V1&granule_ur=*T18TWM*20230505T153242*&options[granule_ur][pattern]=true',\n",
       " 'dswx_id': 'OPERA_L3_DSWx-HLS_T18TWM_20230505T153242Z_20230507T081905Z_L8_30_v1.0',\n",
       " 'dswx_url': 'https://archive.podaac.earthdata.nasa.gov/podaac-ops-cumulus-protected/OPERA_L3_DSWX-HLS_PROVISIONAL_V1/OPERA_L3_DSWx-HLS_T18TWM_20230505T153242Z_20230507T081905Z_L8_30_v1.0_B01_WTR.tif'}"
      ]
     },
     "execution_count": 4,
     "metadata": {},
     "output_type": "execute_result"
    }
   ],
   "source": [
    "r = get_dswx_meta_from_hls_id(sample_hls_id_l8)\n",
    "r"
   ]
  },
  {
   "cell_type": "markdown",
   "id": "e90891b3",
   "metadata": {},
   "source": [
    "# Getting Sensors"
   ]
  },
  {
   "cell_type": "code",
   "execution_count": 5,
   "id": "39d1e7a7",
   "metadata": {},
   "outputs": [
    {
     "data": {
      "text/html": [
       "<div>\n",
       "<style scoped>\n",
       "    .dataframe tbody tr th:only-of-type {\n",
       "        vertical-align: middle;\n",
       "    }\n",
       "\n",
       "    .dataframe tbody tr th {\n",
       "        vertical-align: top;\n",
       "    }\n",
       "\n",
       "    .dataframe thead th {\n",
       "        text-align: right;\n",
       "    }\n",
       "</style>\n",
       "<table border=\"1\" class=\"dataframe\">\n",
       "  <thead>\n",
       "    <tr style=\"text-align: right;\">\n",
       "      <th></th>\n",
       "      <th>granule_id</th>\n",
       "      <th>time_acquired</th>\n",
       "      <th>time_updated</th>\n",
       "      <th>B04_link</th>\n",
       "      <th>time_acq_str</th>\n",
       "      <th>mgrs_tile_id</th>\n",
       "      <th>accode</th>\n",
       "      <th>add_offset</th>\n",
       "      <th>area_or_point</th>\n",
       "      <th>arop_ave_xshift(meters)</th>\n",
       "      <th>...</th>\n",
       "      <th>msi band 03 bandpass adjustment slope and offset</th>\n",
       "      <th>msi band 04 bandpass adjustment slope and offset</th>\n",
       "      <th>msi band 11 bandpass adjustment slope and offset</th>\n",
       "      <th>msi band 12 bandpass adjustment slope and offset</th>\n",
       "      <th>msi band 8a bandpass adjustment slope and offset</th>\n",
       "      <th>processing_baseline</th>\n",
       "      <th>product_uri</th>\n",
       "      <th>spacecraft_name</th>\n",
       "      <th>tile_id</th>\n",
       "      <th>geometry</th>\n",
       "    </tr>\n",
       "  </thead>\n",
       "  <tbody>\n",
       "    <tr>\n",
       "      <th>0</th>\n",
       "      <td>HLS.L30.T18GYN.2023124T142433.v2.0</td>\n",
       "      <td>2023-05-04T14:24:33.166000+00:00</td>\n",
       "      <td>2023-05-06T07:16:52.481998+00:00</td>\n",
       "      <td>https://data.lpdaac.earthdatacloud.nasa.gov/lp...</td>\n",
       "      <td>2023124T142433Z</td>\n",
       "      <td>T18GYN</td>\n",
       "      <td>Lasrc; Lasrc</td>\n",
       "      <td>0.0</td>\n",
       "      <td>Area</td>\n",
       "      <td>0, 0</td>\n",
       "      <td>...</td>\n",
       "      <td>NaN</td>\n",
       "      <td>NaN</td>\n",
       "      <td>NaN</td>\n",
       "      <td>NaN</td>\n",
       "      <td>NaN</td>\n",
       "      <td>NaN</td>\n",
       "      <td>NaN</td>\n",
       "      <td>NaN</td>\n",
       "      <td>NaN</td>\n",
       "      <td>POLYGON ((-72.32396 -47.90997, -71.04347 -47.8...</td>\n",
       "    </tr>\n",
       "    <tr>\n",
       "      <th>1</th>\n",
       "      <td>HLS.L30.T18GYP.2023124T142433.v2.0</td>\n",
       "      <td>2023-05-04T14:24:33.166000+00:00</td>\n",
       "      <td>2023-05-06T07:17:49.271000+00:00</td>\n",
       "      <td>https://data.lpdaac.earthdatacloud.nasa.gov/lp...</td>\n",
       "      <td>2023124T142433Z</td>\n",
       "      <td>T18GYP</td>\n",
       "      <td>Lasrc; Lasrc</td>\n",
       "      <td>0.0</td>\n",
       "      <td>Area</td>\n",
       "      <td>0, 0</td>\n",
       "      <td>...</td>\n",
       "      <td>NaN</td>\n",
       "      <td>NaN</td>\n",
       "      <td>NaN</td>\n",
       "      <td>NaN</td>\n",
       "      <td>NaN</td>\n",
       "      <td>NaN</td>\n",
       "      <td>NaN</td>\n",
       "      <td>NaN</td>\n",
       "      <td>NaN</td>\n",
       "      <td>POLYGON ((-72.36920 -47.01149, -70.92768 -46.9...</td>\n",
       "    </tr>\n",
       "    <tr>\n",
       "      <th>2</th>\n",
       "      <td>HLS.L30.T18GXP.2023124T142433.v2.0</td>\n",
       "      <td>2023-05-04T14:24:33.166000+00:00</td>\n",
       "      <td>2023-05-06T07:21:07.122000+00:00</td>\n",
       "      <td>https://data.lpdaac.earthdatacloud.nasa.gov/lp...</td>\n",
       "      <td>2023124T142433Z</td>\n",
       "      <td>T18GXP</td>\n",
       "      <td>Lasrc; Lasrc</td>\n",
       "      <td>0.0</td>\n",
       "      <td>Area</td>\n",
       "      <td>0, 0</td>\n",
       "      <td>...</td>\n",
       "      <td>NaN</td>\n",
       "      <td>NaN</td>\n",
       "      <td>NaN</td>\n",
       "      <td>NaN</td>\n",
       "      <td>NaN</td>\n",
       "      <td>NaN</td>\n",
       "      <td>NaN</td>\n",
       "      <td>NaN</td>\n",
       "      <td>NaN</td>\n",
       "      <td>POLYGON ((-73.32739 -47.02950, -72.23989 -47.0...</td>\n",
       "    </tr>\n",
       "    <tr>\n",
       "      <th>3</th>\n",
       "      <td>HLS.L30.T19GCJ.2023124T142433.v2.0</td>\n",
       "      <td>2023-05-04T14:24:33.166000+00:00</td>\n",
       "      <td>2023-05-06T07:30:42.305000+00:00</td>\n",
       "      <td>https://data.lpdaac.earthdatacloud.nasa.gov/lp...</td>\n",
       "      <td>2023124T142433Z</td>\n",
       "      <td>T19GCJ</td>\n",
       "      <td>Lasrc; Lasrc</td>\n",
       "      <td>0.0</td>\n",
       "      <td>Area</td>\n",
       "      <td>0, 0</td>\n",
       "      <td>...</td>\n",
       "      <td>NaN</td>\n",
       "      <td>NaN</td>\n",
       "      <td>NaN</td>\n",
       "      <td>NaN</td>\n",
       "      <td>NaN</td>\n",
       "      <td>NaN</td>\n",
       "      <td>NaN</td>\n",
       "      <td>NaN</td>\n",
       "      <td>NaN</td>\n",
       "      <td>POLYGON ((-70.73825 -47.02852, -70.39345 -46.0...</td>\n",
       "    </tr>\n",
       "    <tr>\n",
       "      <th>4</th>\n",
       "      <td>HLS.S30.T19GGM.2023124T140709.v2.0</td>\n",
       "      <td>2023-05-04T14:24:56.969002+00:00</td>\n",
       "      <td>2023-05-06T07:43:05.363000+00:00</td>\n",
       "      <td>https://data.lpdaac.earthdatacloud.nasa.gov/lp...</td>\n",
       "      <td>2023124T140709Z</td>\n",
       "      <td>T19GGM</td>\n",
       "      <td>LaSRC</td>\n",
       "      <td>0.0</td>\n",
       "      <td>Area</td>\n",
       "      <td>0</td>\n",
       "      <td>...</td>\n",
       "      <td>1.007500, -0.000800</td>\n",
       "      <td>0.976100, 0.001000</td>\n",
       "      <td>1.000000, -0.000300</td>\n",
       "      <td>0.986700, 0.000400</td>\n",
       "      <td>0.996600, 0.000000</td>\n",
       "      <td>05.09</td>\n",
       "      <td>S2B_MSIL1C_20230504T140709_N0509_R110_T19GGM_2...</td>\n",
       "      <td>Sentinel-2B</td>\n",
       "      <td>S2B_OPER_MSI_L1C_TL_2BPS_20230504T172832_A0321...</td>\n",
       "      <td>POLYGON ((-66.49269 -44.31394, -65.22951 -44.2...</td>\n",
       "    </tr>\n",
       "  </tbody>\n",
       "</table>\n",
       "<p>5 rows × 57 columns</p>\n",
       "</div>"
      ],
      "text/plain": [
       "                           granule_id                     time_acquired   \n",
       "0  HLS.L30.T18GYN.2023124T142433.v2.0  2023-05-04T14:24:33.166000+00:00  \\\n",
       "1  HLS.L30.T18GYP.2023124T142433.v2.0  2023-05-04T14:24:33.166000+00:00   \n",
       "2  HLS.L30.T18GXP.2023124T142433.v2.0  2023-05-04T14:24:33.166000+00:00   \n",
       "3  HLS.L30.T19GCJ.2023124T142433.v2.0  2023-05-04T14:24:33.166000+00:00   \n",
       "4  HLS.S30.T19GGM.2023124T140709.v2.0  2023-05-04T14:24:56.969002+00:00   \n",
       "\n",
       "                       time_updated   \n",
       "0  2023-05-06T07:16:52.481998+00:00  \\\n",
       "1  2023-05-06T07:17:49.271000+00:00   \n",
       "2  2023-05-06T07:21:07.122000+00:00   \n",
       "3  2023-05-06T07:30:42.305000+00:00   \n",
       "4  2023-05-06T07:43:05.363000+00:00   \n",
       "\n",
       "                                            B04_link     time_acq_str   \n",
       "0  https://data.lpdaac.earthdatacloud.nasa.gov/lp...  2023124T142433Z  \\\n",
       "1  https://data.lpdaac.earthdatacloud.nasa.gov/lp...  2023124T142433Z   \n",
       "2  https://data.lpdaac.earthdatacloud.nasa.gov/lp...  2023124T142433Z   \n",
       "3  https://data.lpdaac.earthdatacloud.nasa.gov/lp...  2023124T142433Z   \n",
       "4  https://data.lpdaac.earthdatacloud.nasa.gov/lp...  2023124T140709Z   \n",
       "\n",
       "  mgrs_tile_id        accode add_offset area_or_point arop_ave_xshift(meters)   \n",
       "0       T18GYN  Lasrc; Lasrc        0.0          Area                    0, 0  \\\n",
       "1       T18GYP  Lasrc; Lasrc        0.0          Area                    0, 0   \n",
       "2       T18GXP  Lasrc; Lasrc        0.0          Area                    0, 0   \n",
       "3       T19GCJ  Lasrc; Lasrc        0.0          Area                    0, 0   \n",
       "4       T19GGM         LaSRC        0.0          Area                       0   \n",
       "\n",
       "   ... msi band 03 bandpass adjustment slope and offset   \n",
       "0  ...                                              NaN  \\\n",
       "1  ...                                              NaN   \n",
       "2  ...                                              NaN   \n",
       "3  ...                                              NaN   \n",
       "4  ...                              1.007500, -0.000800   \n",
       "\n",
       "  msi band 04 bandpass adjustment slope and offset   \n",
       "0                                              NaN  \\\n",
       "1                                              NaN   \n",
       "2                                              NaN   \n",
       "3                                              NaN   \n",
       "4                               0.976100, 0.001000   \n",
       "\n",
       "  msi band 11 bandpass adjustment slope and offset   \n",
       "0                                              NaN  \\\n",
       "1                                              NaN   \n",
       "2                                              NaN   \n",
       "3                                              NaN   \n",
       "4                              1.000000, -0.000300   \n",
       "\n",
       "  msi band 12 bandpass adjustment slope and offset   \n",
       "0                                              NaN  \\\n",
       "1                                              NaN   \n",
       "2                                              NaN   \n",
       "3                                              NaN   \n",
       "4                               0.986700, 0.000400   \n",
       "\n",
       "  msi band 8a bandpass adjustment slope and offset processing_baseline   \n",
       "0                                              NaN                 NaN  \\\n",
       "1                                              NaN                 NaN   \n",
       "2                                              NaN                 NaN   \n",
       "3                                              NaN                 NaN   \n",
       "4                               0.996600, 0.000000               05.09   \n",
       "\n",
       "                                         product_uri spacecraft_name   \n",
       "0                                                NaN             NaN  \\\n",
       "1                                                NaN             NaN   \n",
       "2                                                NaN             NaN   \n",
       "3                                                NaN             NaN   \n",
       "4  S2B_MSIL1C_20230504T140709_N0509_R110_T19GGM_2...     Sentinel-2B   \n",
       "\n",
       "                                             tile_id   \n",
       "0                                                NaN  \\\n",
       "1                                                NaN   \n",
       "2                                                NaN   \n",
       "3                                                NaN   \n",
       "4  S2B_OPER_MSI_L1C_TL_2BPS_20230504T172832_A0321...   \n",
       "\n",
       "                                            geometry  \n",
       "0  POLYGON ((-72.32396 -47.90997, -71.04347 -47.8...  \n",
       "1  POLYGON ((-72.36920 -47.01149, -70.92768 -46.9...  \n",
       "2  POLYGON ((-73.32739 -47.02950, -72.23989 -47.0...  \n",
       "3  POLYGON ((-70.73825 -47.02852, -70.39345 -46.0...  \n",
       "4  POLYGON ((-66.49269 -44.31394, -65.22951 -44.2...  \n",
       "\n",
       "[5 rows x 57 columns]"
      ]
     },
     "execution_count": 5,
     "metadata": {},
     "output_type": "execute_result"
    }
   ],
   "source": [
    "df_hls = gpd.read_file('hls_metadata_with_tags.geojson')\n",
    "df_hls.head()"
   ]
  },
  {
   "cell_type": "code",
   "execution_count": 6,
   "id": "5d321014",
   "metadata": {},
   "outputs": [],
   "source": [
    "def get_input_sensor_name(row):\n",
    "    landsat_id = row['landsat_scene_id']\n",
    "    if isinstance(landsat_id, str):\n",
    "        sensor_name = 'Landsat-9' if landsat_id[:3] == 'LC9' else 'Landsat-8'\n",
    "    else:\n",
    "        sensor_name = row['spacecraft_name']\n",
    "    return sensor_name\n",
    "\n",
    "df_hls['input_sensor_name'] = df_hls.aggregate(get_input_sensor_name, axis=1)"
   ]
  },
  {
   "cell_type": "code",
   "execution_count": 7,
   "id": "359b0a98",
   "metadata": {},
   "outputs": [
    {
     "data": {
      "text/plain": [
       "array(['Landsat-9', 'Sentinel-2B', 'Landsat-8', 'Sentinel-2A'],\n",
       "      dtype=object)"
      ]
     },
     "execution_count": 7,
     "metadata": {},
     "output_type": "execute_result"
    }
   ],
   "source": [
    "df_hls.input_sensor_name.unique()"
   ]
  },
  {
   "cell_type": "code",
   "execution_count": 8,
   "id": "79061f6f",
   "metadata": {},
   "outputs": [],
   "source": [
    "df_hls_for_dswx = df_hls[~df_hls.input_sensor_name.isin(['Landsat-9'])].reset_index(drop=True)"
   ]
  },
  {
   "cell_type": "code",
   "execution_count": 9,
   "id": "268bc781",
   "metadata": {},
   "outputs": [
    {
     "data": {
      "text/plain": [
       "(67480, 52260)"
      ]
     },
     "execution_count": 9,
     "metadata": {},
     "output_type": "execute_result"
    }
   ],
   "source": [
    "df_hls.shape[0], df_hls_for_dswx.shape[0]"
   ]
  },
  {
   "cell_type": "code",
   "execution_count": 10,
   "id": "398437ad",
   "metadata": {},
   "outputs": [],
   "source": [
    "hls_ids = df_hls_for_dswx.granule_id.tolist()"
   ]
  },
  {
   "cell_type": "code",
   "execution_count": 11,
   "id": "b29198e3",
   "metadata": {},
   "outputs": [
    {
     "name": "stderr",
     "output_type": "stream",
     "text": [
      "100%|██████████████████████████████████████████████████████████████████████████████████████████████████| 10/10 [00:09<00:00,  1.00it/s]\n"
     ]
    },
    {
     "data": {
      "text/plain": [
       "[{'dswx_hits': 1,\n",
       "  'dswx_request_url': 'https://cmr.earthdata.nasa.gov/search/granules.umm_json?short_name=OPERA_L3_DSWX-HLS_PROVISIONAL_V1&granule_ur=*T19GGM*20230504T140709*&options[granule_ur][pattern]=true',\n",
       "  'dswx_id': 'OPERA_L3_DSWx-HLS_T19GGM_20230504T140709Z_20230506T163125Z_S2B_30_v1.0',\n",
       "  'dswx_url': 'https://archive.podaac.earthdata.nasa.gov/podaac-ops-cumulus-protected/OPERA_L3_DSWX-HLS_PROVISIONAL_V1/OPERA_L3_DSWx-HLS_T19GGM_20230504T140709Z_20230506T163125Z_S2B_30_v1.0_B01_WTR.tif'},\n",
       " {'dswx_hits': 1,\n",
       "  'dswx_request_url': 'https://cmr.earthdata.nasa.gov/search/granules.umm_json?short_name=OPERA_L3_DSWX-HLS_PROVISIONAL_V1&granule_ur=*T19GFM*20230504T140709*&options[granule_ur][pattern]=true',\n",
       "  'dswx_id': 'OPERA_L3_DSWx-HLS_T19GFM_20230504T140709Z_20230506T163052Z_S2B_30_v1.0',\n",
       "  'dswx_url': 'https://archive.podaac.earthdata.nasa.gov/podaac-ops-cumulus-protected/OPERA_L3_DSWX-HLS_PROVISIONAL_V1/OPERA_L3_DSWx-HLS_T19GFM_20230504T140709Z_20230506T163052Z_S2B_30_v1.0_B01_WTR.tif'},\n",
       " {'dswx_hits': 1,\n",
       "  'dswx_request_url': 'https://cmr.earthdata.nasa.gov/search/granules.umm_json?short_name=OPERA_L3_DSWX-HLS_PROVISIONAL_V1&granule_ur=*T19GEM*20230504T140709*&options[granule_ur][pattern]=true',\n",
       "  'dswx_id': 'OPERA_L3_DSWx-HLS_T19GEM_20230504T140709Z_20230506T163053Z_S2B_30_v1.0',\n",
       "  'dswx_url': 'https://archive.podaac.earthdata.nasa.gov/podaac-ops-cumulus-protected/OPERA_L3_DSWX-HLS_PROVISIONAL_V1/OPERA_L3_DSWx-HLS_T19GEM_20230504T140709Z_20230506T163053Z_S2B_30_v1.0_B01_WTR.tif'},\n",
       " {'dswx_hits': 1,\n",
       "  'dswx_request_url': 'https://cmr.earthdata.nasa.gov/search/granules.umm_json?short_name=OPERA_L3_DSWX-HLS_PROVISIONAL_V1&granule_ur=*T20GLR*20230504T140709*&options[granule_ur][pattern]=true',\n",
       "  'dswx_id': 'OPERA_L3_DSWx-HLS_T20GLR_20230504T140709Z_20230506T102208Z_S2B_30_v1.0',\n",
       "  'dswx_url': 'https://archive.podaac.earthdata.nasa.gov/podaac-ops-cumulus-protected/OPERA_L3_DSWX-HLS_PROVISIONAL_V1/OPERA_L3_DSWx-HLS_T20GLR_20230504T140709Z_20230506T102208Z_S2B_30_v1.0_B01_WTR.tif'},\n",
       " {'dswx_hits': 1,\n",
       "  'dswx_request_url': 'https://cmr.earthdata.nasa.gov/search/granules.umm_json?short_name=OPERA_L3_DSWX-HLS_PROVISIONAL_V1&granule_ur=*T19GGL*20230504T140709*&options[granule_ur][pattern]=true',\n",
       "  'dswx_id': 'OPERA_L3_DSWx-HLS_T19GGL_20230504T140709Z_20230506T163156Z_S2B_30_v1.0',\n",
       "  'dswx_url': 'https://archive.podaac.earthdata.nasa.gov/podaac-ops-cumulus-protected/OPERA_L3_DSWX-HLS_PROVISIONAL_V1/OPERA_L3_DSWx-HLS_T19GGL_20230504T140709Z_20230506T163156Z_S2B_30_v1.0_B01_WTR.tif'},\n",
       " {'dswx_hits': 1,\n",
       "  'dswx_request_url': 'https://cmr.earthdata.nasa.gov/search/granules.umm_json?short_name=OPERA_L3_DSWX-HLS_PROVISIONAL_V1&granule_ur=*T19GFL*20230504T140709*&options[granule_ur][pattern]=true',\n",
       "  'dswx_id': 'OPERA_L3_DSWx-HLS_T19GFL_20230504T140709Z_20230506T163052Z_S2B_30_v1.0',\n",
       "  'dswx_url': 'https://archive.podaac.earthdata.nasa.gov/podaac-ops-cumulus-protected/OPERA_L3_DSWX-HLS_PROVISIONAL_V1/OPERA_L3_DSWx-HLS_T19GFL_20230504T140709Z_20230506T163052Z_S2B_30_v1.0_B01_WTR.tif'},\n",
       " {'dswx_hits': 1,\n",
       "  'dswx_request_url': 'https://cmr.earthdata.nasa.gov/search/granules.umm_json?short_name=OPERA_L3_DSWX-HLS_PROVISIONAL_V1&granule_ur=*T20GLQ*20230504T140709*&options[granule_ur][pattern]=true',\n",
       "  'dswx_id': 'OPERA_L3_DSWx-HLS_T20GLQ_20230504T140709Z_20230506T102201Z_S2B_30_v1.0',\n",
       "  'dswx_url': 'https://archive.podaac.earthdata.nasa.gov/podaac-ops-cumulus-protected/OPERA_L3_DSWX-HLS_PROVISIONAL_V1/OPERA_L3_DSWx-HLS_T20GLQ_20230504T140709Z_20230506T102201Z_S2B_30_v1.0_B01_WTR.tif'},\n",
       " {'dswx_hits': 1,\n",
       "  'dswx_request_url': 'https://cmr.earthdata.nasa.gov/search/granules.umm_json?short_name=OPERA_L3_DSWX-HLS_PROVISIONAL_V1&granule_ur=*T19GEL*20230504T140709*&options[granule_ur][pattern]=true',\n",
       "  'dswx_id': 'OPERA_L3_DSWx-HLS_T19GEL_20230504T140709Z_20230506T163139Z_S2B_30_v1.0',\n",
       "  'dswx_url': 'https://archive.podaac.earthdata.nasa.gov/podaac-ops-cumulus-protected/OPERA_L3_DSWX-HLS_PROVISIONAL_V1/OPERA_L3_DSWx-HLS_T19GEL_20230504T140709Z_20230506T163139Z_S2B_30_v1.0_B01_WTR.tif'},\n",
       " {'dswx_hits': 1,\n",
       "  'dswx_request_url': 'https://cmr.earthdata.nasa.gov/search/granules.umm_json?short_name=OPERA_L3_DSWX-HLS_PROVISIONAL_V1&granule_ur=*T19GGK*20230504T140709*&options[granule_ur][pattern]=true',\n",
       "  'dswx_id': 'OPERA_L3_DSWx-HLS_T19GGK_20230504T140709Z_20230506T163017Z_S2B_30_v1.0',\n",
       "  'dswx_url': 'https://archive.podaac.earthdata.nasa.gov/podaac-ops-cumulus-protected/OPERA_L3_DSWX-HLS_PROVISIONAL_V1/OPERA_L3_DSWx-HLS_T19GGK_20230504T140709Z_20230506T163017Z_S2B_30_v1.0_B01_WTR.tif'},\n",
       " {'dswx_hits': 1,\n",
       "  'dswx_request_url': 'https://cmr.earthdata.nasa.gov/search/granules.umm_json?short_name=OPERA_L3_DSWX-HLS_PROVISIONAL_V1&granule_ur=*T19GFK*20230504T140709*&options[granule_ur][pattern]=true',\n",
       "  'dswx_id': 'OPERA_L3_DSWx-HLS_T19GFK_20230504T140709Z_20230506T102204Z_S2B_30_v1.0',\n",
       "  'dswx_url': 'https://archive.podaac.earthdata.nasa.gov/podaac-ops-cumulus-protected/OPERA_L3_DSWX-HLS_PROVISIONAL_V1/OPERA_L3_DSWx-HLS_T19GFK_20230504T140709Z_20230506T102204Z_S2B_30_v1.0_B01_WTR.tif'}]"
      ]
     },
     "execution_count": 11,
     "metadata": {},
     "output_type": "execute_result"
    }
   ],
   "source": [
    "dswx_data = list(map(get_dswx_meta_from_hls_id, tqdm(hls_ids[:10])))\n",
    "dswx_data"
   ]
  },
  {
   "cell_type": "code",
   "execution_count": null,
   "id": "a4c880c6",
   "metadata": {},
   "outputs": [
    {
     "name": "stderr",
     "output_type": "stream",
     "text": [
      " 26%|███████████████████████▎                                                                  | 13562/52260 [25:40<1:26:39,  7.44it/s]"
     ]
    }
   ],
   "source": [
    "n = len(hls_ids)\n",
    "with concurrent.futures.ThreadPoolExecutor(max_workers=250) as executor:\n",
    "    dswx_data = list(tqdm(executor.map(get_dswx_meta_from_hls_id, hls_ids[:]), total=n))"
   ]
  },
  {
   "cell_type": "code",
   "execution_count": null,
   "id": "f3dbe61c",
   "metadata": {},
   "outputs": [],
   "source": [
    "df_linked_dswx = pd.DataFrame(dswx_data)\n",
    "df_linked_dswx.head()"
   ]
  },
  {
   "cell_type": "code",
   "execution_count": null,
   "id": "fec7a2cd",
   "metadata": {},
   "outputs": [],
   "source": [
    "df_final = pd.concat([df_hls_for_dswx, df_linked_dswx], axis=1)\n",
    "df_final.head()"
   ]
  },
  {
   "cell_type": "code",
   "execution_count": null,
   "id": "561ffa4d",
   "metadata": {},
   "outputs": [],
   "source": [
    "df_final.to_file('hls_metadata_with_linked_dswx.geojson', driver='GeoJSON')"
   ]
  },
  {
   "cell_type": "markdown",
   "id": "e8b668ff",
   "metadata": {},
   "source": [
    "# Missing HLS Tiles"
   ]
  },
  {
   "cell_type": "code",
   "execution_count": null,
   "id": "492f0b5d",
   "metadata": {},
   "outputs": [],
   "source": [
    "df_final[df_final.dswx_hits == 0].shape[0], df_final.shape[0]"
   ]
  },
  {
   "cell_type": "code",
   "execution_count": null,
   "id": "998c3ba8",
   "metadata": {},
   "outputs": [],
   "source": [
    "df_final[df_final.dswx_hits == 0].head()"
   ]
  },
  {
   "cell_type": "code",
   "execution_count": null,
   "id": "059c9cfd",
   "metadata": {},
   "outputs": [],
   "source": [
    "df_missing = df_final[df_final.dswx_hits == 0].reset_index(drop=True)"
   ]
  },
  {
   "cell_type": "code",
   "execution_count": null,
   "id": "72f52dc2",
   "metadata": {},
   "outputs": [],
   "source": [
    "df_missing_f = df_missing[['granule_id', 'mgrs_tile_id', 'time_acquired', 'time_updated','B04_link', 'dswx_hits', 'dswx_id', 'dswx_url', 'input_sensor_name', 'geometry']].copy()"
   ]
  },
  {
   "cell_type": "code",
   "execution_count": null,
   "id": "e3bc3c5a",
   "metadata": {},
   "outputs": [],
   "source": [
    "out_dir = Path('out')\n",
    "out_dir.mkdir(exist_ok=True)\n",
    "\n",
    "fname = 'hls_tiles_with_missing_dswx_products'\n",
    "df_missing_f.to_csv(out_dir / f'{fname}.csv', index=False)\n",
    "df_missing_f.to_file(out_dir / f'{fname}.geojson', driver='GeoJSON')"
   ]
  },
  {
   "cell_type": "markdown",
   "id": "c0d9b5e0",
   "metadata": {},
   "source": [
    "Note: there are instance when there are multiple hits like this: https://cmr.earthdata.nasa.gov/search/granules.umm_json?short_name=OPERA_L3_DSWX-HLS_PROVISIONAL_V1&granule_ur=*T18XVM*20230509T184921*&options[granule_ur][pattern]=true\n",
    "\n",
    "This is because there is the time in which the product was processed and acquired. The latter is what we are interested. However, in rare instances we get a tile that was processed at the precise time a previous one was acquired."
   ]
  }
 ],
 "metadata": {
  "kernelspec": {
   "display_name": "dswx_val",
   "language": "python",
   "name": "dswx_val"
  },
  "language_info": {
   "codemirror_mode": {
    "name": "ipython",
    "version": 3
   },
   "file_extension": ".py",
   "mimetype": "text/x-python",
   "name": "python",
   "nbconvert_exporter": "python",
   "pygments_lexer": "ipython3",
   "version": "3.10.10"
  }
 },
 "nbformat": 4,
 "nbformat_minor": 5
}
