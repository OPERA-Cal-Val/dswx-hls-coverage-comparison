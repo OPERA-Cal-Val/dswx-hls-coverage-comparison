{
 "cells": [
  {
   "cell_type": "code",
   "execution_count": 1,
   "id": "4433a8ae",
   "metadata": {},
   "outputs": [],
   "source": [
    "from cmr import GranuleQuery\n",
    "import datetime\n",
    "from shapely.geometry import Polygon\n",
    "import pandas as pd\n",
    "import geopandas as gpd\n",
    "from tqdm import tqdm\n",
    "from osgeo import gdal\n",
    "import rasterio\n",
    "import concurrent.futures\n",
    "\n",
    "# GDAL configs used to successfully access LP DAAC Cloud Assets via vsicurl \n",
    "gdal.SetConfigOption(\"GDAL_HTTP_UNSAFESSL\", \"YES\")\n",
    "gdal.SetConfigOption('GDAL_HTTP_COOKIEFILE','~/cookies.txt')\n",
    "gdal.SetConfigOption('GDAL_HTTP_COOKIEJAR', '~/cookies.txt')\n",
    "gdal.SetConfigOption('GDAL_DISABLE_READDIR_ON_OPEN','YES')\n",
    "gdal.SetConfigOption('GDAL_DISABLE_READDIR_ON_OPEN','FALSE')\n",
    "gdal.SetConfigOption('CPL_VSIL_CURL_ALLOWED_EXTENSIONS','TIF')"
   ]
  },
  {
   "cell_type": "markdown",
   "id": "d6443080",
   "metadata": {},
   "source": [
    "# Constants"
   ]
  },
  {
   "cell_type": "code",
   "execution_count": 2,
   "id": "9ce76a0e",
   "metadata": {},
   "outputs": [],
   "source": [
    "HLS_S30_CONCEPT_ID = 'C2021957295-LPCLOUD'\n",
    "HLS_L30_CONCEPT_ID = 'C2021957657-LPCLOUD'\n",
    "DSWX_CONCEPT_ID = 'C2617126679-POCLOUD'"
   ]
  },
  {
   "cell_type": "markdown",
   "id": "1be95d4e",
   "metadata": {},
   "source": [
    "# Parameters"
   ]
  },
  {
   "cell_type": "code",
   "execution_count": 3,
   "id": "0ad2d2a8",
   "metadata": {},
   "outputs": [],
   "source": [
    "now = datetime.datetime.now()\n",
    "delta = datetime.timedelta(days=7)\n",
    "\n",
    "beg_date = now - delta\n",
    "end_date = now"
   ]
  },
  {
   "cell_type": "markdown",
   "id": "41fbfc19",
   "metadata": {},
   "source": [
    "# HLS"
   ]
  },
  {
   "cell_type": "code",
   "execution_count": 4,
   "id": "384ff8d0",
   "metadata": {},
   "outputs": [],
   "source": [
    "api = GranuleQuery()"
   ]
  },
  {
   "cell_type": "code",
   "execution_count": 5,
   "id": "154dae5f",
   "metadata": {},
   "outputs": [],
   "source": [
    "concept_ids = [HLS_L30_CONCEPT_ID, HLS_S30_CONCEPT_ID]"
   ]
  },
  {
   "cell_type": "code",
   "execution_count": 6,
   "id": "9a4f9e3b",
   "metadata": {},
   "outputs": [],
   "source": [
    "q = api.concept_id(concept_ids).temporal(beg_date, end_date)"
   ]
  },
  {
   "cell_type": "code",
   "execution_count": 7,
   "id": "006672c7",
   "metadata": {},
   "outputs": [
    {
     "data": {
      "text/plain": [
       "66155"
      ]
     },
     "execution_count": 7,
     "metadata": {},
     "output_type": "execute_result"
    }
   ],
   "source": [
    "q.hits()"
   ]
  },
  {
   "cell_type": "code",
   "execution_count": 8,
   "id": "dbe17aac",
   "metadata": {},
   "outputs": [
    {
     "data": {
      "text/plain": [
       "[{'producer_granule_id': 'HLS.L30.T23XNL.2023122T171828',\n",
       "  'time_start': '2023-05-02T17:18:28.106Z',\n",
       "  'cloud_cover': '1',\n",
       "  'updated': '2023-05-04T08:17:35.893Z',\n",
       "  'dataset_id': 'HLS Landsat Operational Land Imager Surface Reflectance and TOA Brightness Daily Global 30m v2.0',\n",
       "  'data_center': 'LPCLOUD',\n",
       "  'title': 'HLS.L30.T23XNL.2023122T171828.v2.0',\n",
       "  'coordinate_system': 'GEODETIC',\n",
       "  'day_night_flag': 'DAY',\n",
       "  'time_end': '2023-05-02T18:56:09.487Z',\n",
       "  'id': 'G2676661937-LPCLOUD',\n",
       "  'original_format': 'ECHO10',\n",
       "  'browse_flag': True,\n",
       "  'polygons': [['80.9257782 -39.0873183 81.0108644 -38.6944185 81.8974237 -38.0067263 81.9569194 -45.0012803 80.9732637 -45.0011418 80.9257782 -39.0873183']],\n",
       "  'collection_concept_id': 'C2021957657-LPCLOUD',\n",
       "  'online_access_flag': True,\n",
       "  'links': [{'rel': 'http://esipfed.org/ns/fedsearch/1.1/data#',\n",
       "    'title': 'Download HLS.L30.T23XNL.2023122T171828.v2.0.B07.tif',\n",
       "    'hreflang': 'en-US',\n",
       "    'href': 'https://data.lpdaac.earthdatacloud.nasa.gov/lp-prod-protected/HLSL30.020/HLS.L30.T23XNL.2023122T171828.v2.0/HLS.L30.T23XNL.2023122T171828.v2.0.B07.tif'},\n",
       "   {'rel': 'http://esipfed.org/ns/fedsearch/1.1/s3#',\n",
       "    'title': 'This link provides direct download access via S3 to the granule',\n",
       "    'hreflang': 'en-US',\n",
       "    'href': 's3://lp-prod-protected/HLSL30.020/HLS.L30.T23XNL.2023122T171828.v2.0/HLS.L30.T23XNL.2023122T171828.v2.0.B07.tif'},\n",
       "   {'rel': 'http://esipfed.org/ns/fedsearch/1.1/data#',\n",
       "    'title': 'Download HLS.L30.T23XNL.2023122T171828.v2.0.B03.tif',\n",
       "    'hreflang': 'en-US',\n",
       "    'href': 'https://data.lpdaac.earthdatacloud.nasa.gov/lp-prod-protected/HLSL30.020/HLS.L30.T23XNL.2023122T171828.v2.0/HLS.L30.T23XNL.2023122T171828.v2.0.B03.tif'},\n",
       "   {'rel': 'http://esipfed.org/ns/fedsearch/1.1/s3#',\n",
       "    'title': 'This link provides direct download access via S3 to the granule',\n",
       "    'hreflang': 'en-US',\n",
       "    'href': 's3://lp-prod-protected/HLSL30.020/HLS.L30.T23XNL.2023122T171828.v2.0/HLS.L30.T23XNL.2023122T171828.v2.0.B03.tif'},\n",
       "   {'rel': 'http://esipfed.org/ns/fedsearch/1.1/data#',\n",
       "    'title': 'Download HLS.L30.T23XNL.2023122T171828.v2.0.B10.tif',\n",
       "    'hreflang': 'en-US',\n",
       "    'href': 'https://data.lpdaac.earthdatacloud.nasa.gov/lp-prod-protected/HLSL30.020/HLS.L30.T23XNL.2023122T171828.v2.0/HLS.L30.T23XNL.2023122T171828.v2.0.B10.tif'},\n",
       "   {'rel': 'http://esipfed.org/ns/fedsearch/1.1/s3#',\n",
       "    'title': 'This link provides direct download access via S3 to the granule',\n",
       "    'hreflang': 'en-US',\n",
       "    'href': 's3://lp-prod-protected/HLSL30.020/HLS.L30.T23XNL.2023122T171828.v2.0/HLS.L30.T23XNL.2023122T171828.v2.0.B10.tif'},\n",
       "   {'rel': 'http://esipfed.org/ns/fedsearch/1.1/data#',\n",
       "    'title': 'Download HLS.L30.T23XNL.2023122T171828.v2.0.B01.tif',\n",
       "    'hreflang': 'en-US',\n",
       "    'href': 'https://data.lpdaac.earthdatacloud.nasa.gov/lp-prod-protected/HLSL30.020/HLS.L30.T23XNL.2023122T171828.v2.0/HLS.L30.T23XNL.2023122T171828.v2.0.B01.tif'},\n",
       "   {'rel': 'http://esipfed.org/ns/fedsearch/1.1/s3#',\n",
       "    'title': 'This link provides direct download access via S3 to the granule',\n",
       "    'hreflang': 'en-US',\n",
       "    'href': 's3://lp-prod-protected/HLSL30.020/HLS.L30.T23XNL.2023122T171828.v2.0/HLS.L30.T23XNL.2023122T171828.v2.0.B01.tif'},\n",
       "   {'rel': 'http://esipfed.org/ns/fedsearch/1.1/data#',\n",
       "    'title': 'Download HLS.L30.T23XNL.2023122T171828.v2.0.VZA.tif',\n",
       "    'hreflang': 'en-US',\n",
       "    'href': 'https://data.lpdaac.earthdatacloud.nasa.gov/lp-prod-protected/HLSL30.020/HLS.L30.T23XNL.2023122T171828.v2.0/HLS.L30.T23XNL.2023122T171828.v2.0.VZA.tif'},\n",
       "   {'rel': 'http://esipfed.org/ns/fedsearch/1.1/s3#',\n",
       "    'title': 'This link provides direct download access via S3 to the granule',\n",
       "    'hreflang': 'en-US',\n",
       "    'href': 's3://lp-prod-protected/HLSL30.020/HLS.L30.T23XNL.2023122T171828.v2.0/HLS.L30.T23XNL.2023122T171828.v2.0.VZA.tif'},\n",
       "   {'rel': 'http://esipfed.org/ns/fedsearch/1.1/data#',\n",
       "    'title': 'Download HLS.L30.T23XNL.2023122T171828.v2.0.B09.tif',\n",
       "    'hreflang': 'en-US',\n",
       "    'href': 'https://data.lpdaac.earthdatacloud.nasa.gov/lp-prod-protected/HLSL30.020/HLS.L30.T23XNL.2023122T171828.v2.0/HLS.L30.T23XNL.2023122T171828.v2.0.B09.tif'},\n",
       "   {'rel': 'http://esipfed.org/ns/fedsearch/1.1/s3#',\n",
       "    'title': 'This link provides direct download access via S3 to the granule',\n",
       "    'hreflang': 'en-US',\n",
       "    'href': 's3://lp-prod-protected/HLSL30.020/HLS.L30.T23XNL.2023122T171828.v2.0/HLS.L30.T23XNL.2023122T171828.v2.0.B09.tif'},\n",
       "   {'rel': 'http://esipfed.org/ns/fedsearch/1.1/data#',\n",
       "    'title': 'Download HLS.L30.T23XNL.2023122T171828.v2.0.B06.tif',\n",
       "    'hreflang': 'en-US',\n",
       "    'href': 'https://data.lpdaac.earthdatacloud.nasa.gov/lp-prod-protected/HLSL30.020/HLS.L30.T23XNL.2023122T171828.v2.0/HLS.L30.T23XNL.2023122T171828.v2.0.B06.tif'},\n",
       "   {'rel': 'http://esipfed.org/ns/fedsearch/1.1/s3#',\n",
       "    'title': 'This link provides direct download access via S3 to the granule',\n",
       "    'hreflang': 'en-US',\n",
       "    'href': 's3://lp-prod-protected/HLSL30.020/HLS.L30.T23XNL.2023122T171828.v2.0/HLS.L30.T23XNL.2023122T171828.v2.0.B06.tif'},\n",
       "   {'rel': 'http://esipfed.org/ns/fedsearch/1.1/data#',\n",
       "    'title': 'Download HLS.L30.T23XNL.2023122T171828.v2.0.B05.tif',\n",
       "    'hreflang': 'en-US',\n",
       "    'href': 'https://data.lpdaac.earthdatacloud.nasa.gov/lp-prod-protected/HLSL30.020/HLS.L30.T23XNL.2023122T171828.v2.0/HLS.L30.T23XNL.2023122T171828.v2.0.B05.tif'},\n",
       "   {'rel': 'http://esipfed.org/ns/fedsearch/1.1/s3#',\n",
       "    'title': 'This link provides direct download access via S3 to the granule',\n",
       "    'hreflang': 'en-US',\n",
       "    'href': 's3://lp-prod-protected/HLSL30.020/HLS.L30.T23XNL.2023122T171828.v2.0/HLS.L30.T23XNL.2023122T171828.v2.0.B05.tif'},\n",
       "   {'rel': 'http://esipfed.org/ns/fedsearch/1.1/data#',\n",
       "    'title': 'Download HLS.L30.T23XNL.2023122T171828.v2.0.B02.tif',\n",
       "    'hreflang': 'en-US',\n",
       "    'href': 'https://data.lpdaac.earthdatacloud.nasa.gov/lp-prod-protected/HLSL30.020/HLS.L30.T23XNL.2023122T171828.v2.0/HLS.L30.T23XNL.2023122T171828.v2.0.B02.tif'},\n",
       "   {'rel': 'http://esipfed.org/ns/fedsearch/1.1/s3#',\n",
       "    'title': 'This link provides direct download access via S3 to the granule',\n",
       "    'hreflang': 'en-US',\n",
       "    'href': 's3://lp-prod-protected/HLSL30.020/HLS.L30.T23XNL.2023122T171828.v2.0/HLS.L30.T23XNL.2023122T171828.v2.0.B02.tif'},\n",
       "   {'rel': 'http://esipfed.org/ns/fedsearch/1.1/data#',\n",
       "    'title': 'Download HLS.L30.T23XNL.2023122T171828.v2.0.B04.tif',\n",
       "    'hreflang': 'en-US',\n",
       "    'href': 'https://data.lpdaac.earthdatacloud.nasa.gov/lp-prod-protected/HLSL30.020/HLS.L30.T23XNL.2023122T171828.v2.0/HLS.L30.T23XNL.2023122T171828.v2.0.B04.tif'},\n",
       "   {'rel': 'http://esipfed.org/ns/fedsearch/1.1/s3#',\n",
       "    'title': 'This link provides direct download access via S3 to the granule',\n",
       "    'hreflang': 'en-US',\n",
       "    'href': 's3://lp-prod-protected/HLSL30.020/HLS.L30.T23XNL.2023122T171828.v2.0/HLS.L30.T23XNL.2023122T171828.v2.0.B04.tif'},\n",
       "   {'rel': 'http://esipfed.org/ns/fedsearch/1.1/data#',\n",
       "    'title': 'Download HLS.L30.T23XNL.2023122T171828.v2.0.Fmask.tif',\n",
       "    'hreflang': 'en-US',\n",
       "    'href': 'https://data.lpdaac.earthdatacloud.nasa.gov/lp-prod-protected/HLSL30.020/HLS.L30.T23XNL.2023122T171828.v2.0/HLS.L30.T23XNL.2023122T171828.v2.0.Fmask.tif'},\n",
       "   {'rel': 'http://esipfed.org/ns/fedsearch/1.1/s3#',\n",
       "    'title': 'This link provides direct download access via S3 to the granule',\n",
       "    'hreflang': 'en-US',\n",
       "    'href': 's3://lp-prod-protected/HLSL30.020/HLS.L30.T23XNL.2023122T171828.v2.0/HLS.L30.T23XNL.2023122T171828.v2.0.Fmask.tif'},\n",
       "   {'rel': 'http://esipfed.org/ns/fedsearch/1.1/data#',\n",
       "    'title': 'Download HLS.L30.T23XNL.2023122T171828.v2.0.B11.tif',\n",
       "    'hreflang': 'en-US',\n",
       "    'href': 'https://data.lpdaac.earthdatacloud.nasa.gov/lp-prod-protected/HLSL30.020/HLS.L30.T23XNL.2023122T171828.v2.0/HLS.L30.T23XNL.2023122T171828.v2.0.B11.tif'},\n",
       "   {'rel': 'http://esipfed.org/ns/fedsearch/1.1/s3#',\n",
       "    'title': 'This link provides direct download access via S3 to the granule',\n",
       "    'hreflang': 'en-US',\n",
       "    'href': 's3://lp-prod-protected/HLSL30.020/HLS.L30.T23XNL.2023122T171828.v2.0/HLS.L30.T23XNL.2023122T171828.v2.0.B11.tif'},\n",
       "   {'rel': 'http://esipfed.org/ns/fedsearch/1.1/data#',\n",
       "    'title': 'Download HLS.L30.T23XNL.2023122T171828.v2.0.SAA.tif',\n",
       "    'hreflang': 'en-US',\n",
       "    'href': 'https://data.lpdaac.earthdatacloud.nasa.gov/lp-prod-protected/HLSL30.020/HLS.L30.T23XNL.2023122T171828.v2.0/HLS.L30.T23XNL.2023122T171828.v2.0.SAA.tif'},\n",
       "   {'rel': 'http://esipfed.org/ns/fedsearch/1.1/s3#',\n",
       "    'title': 'This link provides direct download access via S3 to the granule',\n",
       "    'hreflang': 'en-US',\n",
       "    'href': 's3://lp-prod-protected/HLSL30.020/HLS.L30.T23XNL.2023122T171828.v2.0/HLS.L30.T23XNL.2023122T171828.v2.0.SAA.tif'},\n",
       "   {'rel': 'http://esipfed.org/ns/fedsearch/1.1/data#',\n",
       "    'title': 'Download HLS.L30.T23XNL.2023122T171828.v2.0.SZA.tif',\n",
       "    'hreflang': 'en-US',\n",
       "    'href': 'https://data.lpdaac.earthdatacloud.nasa.gov/lp-prod-protected/HLSL30.020/HLS.L30.T23XNL.2023122T171828.v2.0/HLS.L30.T23XNL.2023122T171828.v2.0.SZA.tif'},\n",
       "   {'rel': 'http://esipfed.org/ns/fedsearch/1.1/s3#',\n",
       "    'title': 'This link provides direct download access via S3 to the granule',\n",
       "    'hreflang': 'en-US',\n",
       "    'href': 's3://lp-prod-protected/HLSL30.020/HLS.L30.T23XNL.2023122T171828.v2.0/HLS.L30.T23XNL.2023122T171828.v2.0.SZA.tif'},\n",
       "   {'rel': 'http://esipfed.org/ns/fedsearch/1.1/data#',\n",
       "    'title': 'Download HLS.L30.T23XNL.2023122T171828.v2.0.VAA.tif',\n",
       "    'hreflang': 'en-US',\n",
       "    'href': 'https://data.lpdaac.earthdatacloud.nasa.gov/lp-prod-protected/HLSL30.020/HLS.L30.T23XNL.2023122T171828.v2.0/HLS.L30.T23XNL.2023122T171828.v2.0.VAA.tif'},\n",
       "   {'rel': 'http://esipfed.org/ns/fedsearch/1.1/s3#',\n",
       "    'title': 'This link provides direct download access via S3 to the granule',\n",
       "    'hreflang': 'en-US',\n",
       "    'href': 's3://lp-prod-protected/HLSL30.020/HLS.L30.T23XNL.2023122T171828.v2.0/HLS.L30.T23XNL.2023122T171828.v2.0.VAA.tif'},\n",
       "   {'rel': 'http://esipfed.org/ns/fedsearch/1.1/metadata#',\n",
       "    'title': 'Download HLS.L30.T23XNL.2023122T171828.v2.0_stac.json (EXTENDED METADATA)',\n",
       "    'hreflang': 'en-US',\n",
       "    'href': 'https://data.lpdaac.earthdatacloud.nasa.gov/lp-prod-public/HLSL30.020/HLS.L30.T23XNL.2023122T171828.v2.0/HLS.L30.T23XNL.2023122T171828.v2.0_stac.json'},\n",
       "   {'rel': 'http://esipfed.org/ns/fedsearch/1.1/metadata#',\n",
       "    'title': 'This link provides direct download access via S3 to the granule (EXTENDED METADATA)',\n",
       "    'hreflang': 'en-US',\n",
       "    'href': 's3://lp-prod-public/HLSL30.020/HLS.L30.T23XNL.2023122T171828.v2.0/HLS.L30.T23XNL.2023122T171828.v2.0_stac.json'},\n",
       "   {'rel': 'http://esipfed.org/ns/fedsearch/1.1/metadata#',\n",
       "    'title': 'Download HLS.L30.T23XNL.2023122T171828.v2.0.cmr.xml (EXTENDED METADATA)',\n",
       "    'hreflang': 'en-US',\n",
       "    'href': 'https://data.lpdaac.earthdatacloud.nasa.gov/lp-prod-protected/HLSL30.020/HLS.L30.T23XNL.2023122T171828.v2.0/HLS.L30.T23XNL.2023122T171828.v2.0.cmr.xml'},\n",
       "   {'rel': 'http://esipfed.org/ns/fedsearch/1.1/metadata#',\n",
       "    'title': 'This link provides direct download access via S3 to the granule (EXTENDED METADATA)',\n",
       "    'hreflang': 'en-US',\n",
       "    'href': 's3://lp-prod-protected/HLSL30.020/HLS.L30.T23XNL.2023122T171828.v2.0/HLS.L30.T23XNL.2023122T171828.v2.0.cmr.xml'},\n",
       "   {'rel': 'http://esipfed.org/ns/fedsearch/1.1/metadata#',\n",
       "    'title': 'api endpoint to retrieve temporary credentials valid for same-region direct s3 access (VIEW RELATED INFORMATION)',\n",
       "    'hreflang': 'en-US',\n",
       "    'href': 'https://data.lpdaac.earthdatacloud.nasa.gov/s3credentials'},\n",
       "   {'rel': 'http://esipfed.org/ns/fedsearch/1.1/browse#',\n",
       "    'title': 'Download HLS.L30.T23XNL.2023122T171828.v2.0.jpg',\n",
       "    'hreflang': 'en-US',\n",
       "    'href': 'https://data.lpdaac.earthdatacloud.nasa.gov/lp-prod-public/HLSL30.020/HLS.L30.T23XNL.2023122T171828.v2.0/HLS.L30.T23XNL.2023122T171828.v2.0.jpg'},\n",
       "   {'rel': 'http://esipfed.org/ns/fedsearch/1.1/browse#',\n",
       "    'title': 'This link provides direct download access via S3 to the granule',\n",
       "    'hreflang': 'en-US',\n",
       "    'href': 's3://lp-prod-public/HLSL30.020/HLS.L30.T23XNL.2023122T171828.v2.0/HLS.L30.T23XNL.2023122T171828.v2.0.jpg'},\n",
       "   {'inherited': True,\n",
       "    'rel': 'http://esipfed.org/ns/fedsearch/1.1/data#',\n",
       "    'hreflang': 'en-US',\n",
       "    'href': 'https://search.earthdata.nasa.gov/search?q=C2021957657-LPCLOUD'},\n",
       "   {'inherited': True,\n",
       "    'rel': 'http://esipfed.org/ns/fedsearch/1.1/metadata#',\n",
       "    'hreflang': 'en-US',\n",
       "    'href': 'https://doi.org/10.5067/HLS/HLSL30.002'},\n",
       "   {'inherited': True,\n",
       "    'rel': 'http://esipfed.org/ns/fedsearch/1.1/metadata#',\n",
       "    'hreflang': 'en-US',\n",
       "    'href': 'https://lpdaac.usgs.gov/'},\n",
       "   {'inherited': True,\n",
       "    'rel': 'http://esipfed.org/ns/fedsearch/1.1/documentation#',\n",
       "    'hreflang': 'en-US',\n",
       "    'href': 'https://lpdaac.usgs.gov/documents/1326/HLS_User_Guide_V2.pdf'},\n",
       "   {'inherited': True,\n",
       "    'rel': 'http://esipfed.org/ns/fedsearch/1.1/documentation#',\n",
       "    'hreflang': 'en-US',\n",
       "    'href': 'https://lpdaac.usgs.gov/documents/769/HLS_ATBD_V15_provisional.pdf'},\n",
       "   {'inherited': True,\n",
       "    'rel': 'http://esipfed.org/ns/fedsearch/1.1/documentation#',\n",
       "    'hreflang': 'en-US',\n",
       "    'href': 'https://lpdaac.usgs.gov/documents/1117/HLS_Quick_Guide_v02.pdf'},\n",
       "   {'inherited': True,\n",
       "    'rel': 'http://esipfed.org/ns/fedsearch/1.1/documentation#',\n",
       "    'hreflang': 'en-US',\n",
       "    'href': 'https://git.earthdata.nasa.gov/projects/LPDUR/repos/hls-tutorial/browse'},\n",
       "   {'inherited': True,\n",
       "    'rel': 'http://esipfed.org/ns/fedsearch/1.1/documentation#',\n",
       "    'hreflang': 'en-US',\n",
       "    'href': 'https://git.earthdata.nasa.gov/projects/LPDUR/repos/hls-super-script/browse'},\n",
       "   {'inherited': True,\n",
       "    'rel': 'http://esipfed.org/ns/fedsearch/1.1/documentation#',\n",
       "    'hreflang': 'en-US',\n",
       "    'href': 'https://git.earthdata.nasa.gov/projects/LPDUR/repos/hls-bulk-download/browse'},\n",
       "   {'inherited': True,\n",
       "    'rel': 'http://esipfed.org/ns/fedsearch/1.1/documentation#',\n",
       "    'hreflang': 'en-US',\n",
       "    'href': 'https://lpdaac.usgs.gov/resources/e-learning/getting-started-with-cloud-native-harmonized-landsat-sentinel-2-hls-data-in-r/'},\n",
       "   {'inherited': True,\n",
       "    'rel': 'http://esipfed.org/ns/fedsearch/1.1/data#',\n",
       "    'hreflang': 'en-US',\n",
       "    'href': 'https://appeears.earthdatacloud.nasa.gov/'}]}]"
      ]
     },
     "execution_count": 8,
     "metadata": {},
     "output_type": "execute_result"
    }
   ],
   "source": [
    "q.get(1)"
   ]
  },
  {
   "cell_type": "code",
   "execution_count": null,
   "id": "1c84e0df",
   "metadata": {},
   "outputs": [],
   "source": [
    "%%time\n",
    "\n",
    "hls_metadata = q.get_all()"
   ]
  },
  {
   "cell_type": "markdown",
   "id": "4cbf4540",
   "metadata": {},
   "source": [
    "## Format"
   ]
  },
  {
   "cell_type": "code",
   "execution_count": 10,
   "id": "3d62333c",
   "metadata": {},
   "outputs": [],
   "source": [
    "def dateline_fix_x(x_coords):\n",
    "    xmax = max(x_coords)\n",
    "    xmin = min(x_coords)\n",
    "    x_coords_new = x_coords\n",
    "    if xmax - xmin > 180:\n",
    "        x_coords_new = [x if x < 0 else x - 360 for x in x_coords]\n",
    "    return x_coords_new\n",
    "\n",
    "def format_hls(item):\n",
    "    out = {}\n",
    "    granule_id = item['title']\n",
    "    out['granule_id'] = granule_id\n",
    "    out['time_acquired'] = pd.to_datetime(item['time_start'])\n",
    "    out['time_updated'] = pd.to_datetime(item['updated'])\n",
    "    # B11 is smaller file size - faster to read mask\n",
    "    out['B11_link'] = next(link_data['href'] for link_data in item['links'] \n",
    "                           if all(kw in link_data['href'] for kw in ['.B11.tif', 'https://']))\n",
    "    \n",
    "    poly_str = item['polygons'][0][0].split(' ')\n",
    "    poly_floats = [float(coord) for coord in poly_str]\n",
    "    n = len(poly_floats)\n",
    "    # (lat, lon)\n",
    "    poly_coords = [(poly_floats[k+1], poly_floats[k]) for k in range(0, n, 2)]\n",
    "    x_coords, y_coords = zip(*poly_coords)\n",
    "    x_coords = dateline_fix_x(x_coords)\n",
    "    poly_coords = zip(x_coords, y_coords)\n",
    "    geometry = Polygon(poly_coords)\n",
    "    \n",
    "    out['time_acq_str'] = granule_id.split('.')[2]\n",
    "    out['mgrs_tile_id'] = granule_id.split('.')[3] + 'Z'\n",
    "    out['geometry'] = geometry\n",
    "    \n",
    "    return out"
   ]
  },
  {
   "cell_type": "code",
   "execution_count": 11,
   "id": "3fec9114",
   "metadata": {},
   "outputs": [
    {
     "ename": "NameError",
     "evalue": "name 'hls_metadata' is not defined",
     "output_type": "error",
     "traceback": [
      "\u001b[0;31m---------------------------------------------------------------------------\u001b[0m",
      "\u001b[0;31mNameError\u001b[0m                                 Traceback (most recent call last)",
      "Cell \u001b[0;32mIn[11], line 1\u001b[0m\n\u001b[0;32m----> 1\u001b[0m hls_metadata_formatted \u001b[38;5;241m=\u001b[39m \u001b[38;5;28mlist\u001b[39m(\u001b[38;5;28mmap\u001b[39m(format_hls, tqdm(\u001b[43mhls_metadata\u001b[49m[:])))\n",
      "\u001b[0;31mNameError\u001b[0m: name 'hls_metadata' is not defined"
     ]
    }
   ],
   "source": [
    "hls_metadata_formatted = list(map(format_hls, tqdm(hls_metadata[:])))"
   ]
  },
  {
   "cell_type": "code",
   "execution_count": null,
   "id": "b07e42b3",
   "metadata": {},
   "outputs": [],
   "source": [
    "df = gpd.GeoDataFrame(hls_metadata_formatted)\n",
    "df.head()"
   ]
  },
  {
   "cell_type": "code",
   "execution_count": null,
   "id": "c2c49c8e",
   "metadata": {},
   "outputs": [],
   "source": [
    "df.exterior.plot()"
   ]
  },
  {
   "cell_type": "code",
   "execution_count": null,
   "id": "3a1a701a",
   "metadata": {},
   "outputs": [],
   "source": [
    "def get_mask_data_hls(url: str) -> dict:\n",
    "    with rasterio.open(url) as ds:\n",
    "        m = ~(ds.read_masks(1).astype(bool))\n",
    "    total_nodata = m.sum()\n",
    "    return {'total_nodata_pixels_hls': total_nodata, \n",
    "            'percent_nodata_hls': total_nodata / m.size * 100}\n",
    "\n",
    "def get_mask_data_from_item(item: dict) -> dict:\n",
    "    url = item['B11_link']\n",
    "    return get_mask_data_hls(url)"
   ]
  },
  {
   "cell_type": "code",
   "execution_count": null,
   "id": "4fec9995",
   "metadata": {},
   "outputs": [],
   "source": [
    "no_data_info = list(map(get_mask_data_from_item, tqdm(hls_metadata_formatted[:4])))\n",
    "no_data_info"
   ]
  },
  {
   "cell_type": "code",
   "execution_count": null,
   "id": "168d739f",
   "metadata": {},
   "outputs": [],
   "source": [
    "n = len(hls_metadata_formatted)\n",
    "with concurrent.futures.ThreadPoolExecutor(max_workers=10) as executor:\n",
    "    no_data_info = list(tqdm(executor.map(get_mask_data_from_item, hls_metadata_formatted[:4]), total=n))"
   ]
  },
  {
   "cell_type": "code",
   "execution_count": null,
   "id": "fd1e43a4",
   "metadata": {},
   "outputs": [],
   "source": [
    "hls_data_formatted_plus_nodata = [{**item, **nodata_item} for (item, nodata_item) in zip(hls_metadata_formatted, no_data_info)]\n",
    "df_nodata = gpd.GeoDataFrame(hls_data_formatted_plus_nodata)"
   ]
  },
  {
   "cell_type": "code",
   "execution_count": null,
   "id": "b4e38837",
   "metadata": {},
   "outputs": [],
   "source": [
    "df.to_file('hls_metadata_with_nodata.geojson', driver='GeoJSON')"
   ]
  }
 ],
 "metadata": {
  "kernelspec": {
   "display_name": "dswx_val",
   "language": "python",
   "name": "dswx_val"
  },
  "language_info": {
   "codemirror_mode": {
    "name": "ipython",
    "version": 3
   },
   "file_extension": ".py",
   "mimetype": "text/x-python",
   "name": "python",
   "nbconvert_exporter": "python",
   "pygments_lexer": "ipython3",
   "version": "3.10.10"
  }
 },
 "nbformat": 4,
 "nbformat_minor": 5
}
